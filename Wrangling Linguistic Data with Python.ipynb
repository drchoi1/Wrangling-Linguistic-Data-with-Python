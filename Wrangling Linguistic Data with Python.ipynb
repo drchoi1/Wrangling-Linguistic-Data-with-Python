{
 "cells": [
  {
   "cell_type": "markdown",
   "metadata": {},
   "source": [
    "# Welcome to Wrangling Linguistic Data with Python \n",
    "This workshop will introduce you to the programming language Python and walk you through a typical workflow for converting raw text into an annotated linguistic dataset.  We will cover various computational tasks, including reading in raw text files, segmenting text into sentences and tokens, and annotating tokens for various levels of metadata. We will explore the types of linguistic annotation available in the NLP package SpaCy, such as part-of-speech, lemma, and syntactic function. After annotating texts, we will cover techniques for searching and filtering data and use regular expressions to look for word patterns. This workshop is designed to be accessible to both those who are new to programming as well as those who have experience programming.  "
   ]
  },
  {
   "cell_type": "markdown",
   "metadata": {},
   "source": [
    "## 0. Practicing with Objects and Functions\n",
    "#### Objects\n",
    "We will look at three types of objects here: \n",
    "* string - sequence of characters, marked by single (`'`) or double (`\"`) quotes\n",
    "* integer - a single interger (ex. 1, 2, 3, 4, or 5)\n",
    "* list - group of several objects together, marked by square brackets `[]`\n",
    "\n",
    "In order to reference these objects within our code, we assign them to a variable, using equals sign (=) and then start using it. In order to manipulate and utlizes these objects, we apply functions and methods to them. In essence functions and methods transform something into something else. "
   ]
  },
  {
   "cell_type": "code",
   "execution_count": 2,
   "metadata": {},
   "outputs": [
    {
     "name": "stdout",
     "output_type": "stream",
     "text": [
      "This is a string\n"
     ]
    }
   ],
   "source": [
    "a = \"This is a string\" \n",
    "b = 4 \n",
    "c = [a, b]\n",
    "print(a)"
   ]
  },
  {
   "cell_type": "code",
   "execution_count": 3,
   "metadata": {},
   "outputs": [],
   "source": [
    "verb_count = 88\n",
    "noun_count = 72"
   ]
  },
  {
   "cell_type": "markdown",
   "metadata": {},
   "source": [
    "#### Functions\n",
    "In order to manipulate and utlizes these objects, we apply functions and methods to them. In essence, functions and methods transform something into something else.  "
   ]
  },
  {
   "cell_type": "code",
   "execution_count": 10,
   "metadata": {},
   "outputs": [
    {
     "name": "stdout",
     "output_type": "stream",
     "text": [
      "This is a string\n",
      "4\n",
      "['This is a string', 4]\n"
     ]
    }
   ],
   "source": [
    "print(a) # use the print function to see what variable \"a\" is\n",
    "print(b)\n",
    "print(c)"
   ]
  },
  {
   "cell_type": "code",
   "execution_count": 9,
   "metadata": {},
   "outputs": [
    {
     "data": {
      "text/plain": [
       "list"
      ]
     },
     "execution_count": 9,
     "metadata": {},
     "output_type": "execute_result"
    }
   ],
   "source": [
    "type(c) # use the type function to see what type of variable \"a\" is "
   ]
  },
  {
   "cell_type": "markdown",
   "metadata": {},
   "source": [
    "#### Comments\n",
    "Comments in Python begin with a hash mark (#) and whitespace character and continue to the end of the line. Comments are not executed; they appear in code to improve the readability for humans to read.\n",
    "\n",
    "`# This is a comment` "
   ]
  },
  {
   "cell_type": "markdown",
   "metadata": {},
   "source": [
    "####  <font color=red>Your turn! (4 minutes) </font> \n",
    "<font color=red> **Beginner:** Create new variables of different types, print them, and verify their types using the `print` and `type` functions. Create a list. Play around with numbers with decimals. What is that variable type called?</font> "
   ]
  },
  {
   "cell_type": "code",
   "execution_count": null,
   "metadata": {},
   "outputs": [],
   "source": []
  },
  {
   "cell_type": "markdown",
   "metadata": {},
   "source": [
    "<font color=dark red> **Intermediate:** Play around with the function `len()` on lists and strings. What does this function do? Try adding integers together and strings together with `+`. What happens? Can you at integers and strings together? \n",
    "Try using [string methods](http://www.python-ds.com/python-3-string-methods), similar to functions Python except they are attached to an object.\n",
    "</font> "
   ]
  },
  {
   "cell_type": "code",
   "execution_count": 5,
   "metadata": {},
   "outputs": [
    {
     "data": {
      "text/plain": [
       "'helloyou'"
      ]
     },
     "execution_count": 5,
     "metadata": {},
     "output_type": "execute_result"
    }
   ],
   "source": [
    "\"hello\" + \"you\""
   ]
  },
  {
   "cell_type": "markdown",
   "metadata": {},
   "source": [
    "<font color=dark red> **Advanced:** Try using [string methods](http://www.python-ds.com/python-3-string-methods), such as `.upper()`, `.capitalize()`, and `.split()`. Methods are similar to functions Python except they are attached to an object. \n",
    "</font> "
   ]
  },
  {
   "cell_type": "code",
   "execution_count": 10,
   "metadata": {},
   "outputs": [
    {
     "data": {
      "text/plain": [
       "'This is a string'"
      ]
     },
     "execution_count": 10,
     "metadata": {},
     "output_type": "execute_result"
    }
   ],
   "source": [
    "tokens = a.split()\n",
    "a"
   ]
  },
  {
   "cell_type": "markdown",
   "metadata": {},
   "source": [
    "## 1. Reading in Data\n",
    "We first need to read in our file so we can access our data. We will read in a sample file from the Davies Corpus that are readily accessible at https://www.corpusdata.org/formats.asp. All the data files are available in this repository within the Data folder."
   ]
  },
  {
   "cell_type": "markdown",
   "metadata": {},
   "source": [
    "#### Basic Reading in Data\n",
    "First we create an object for the file with the `open` function and then we read it into a variable with the `read` function. You file should end in .txt."
   ]
  },
  {
   "cell_type": "code",
   "execution_count": 11,
   "metadata": {},
   "outputs": [],
   "source": [
    "f = open(\"Data/en_short_text.txt\")\n",
    "data = f.read()"
   ]
  },
  {
   "cell_type": "markdown",
   "metadata": {},
   "source": [
    "If you can not open jupyter notebooks but are working in the online consule. Type in the following instead of the code above. Do not excute this code if you are successfully working in the jupyter notebook."
   ]
  },
  {
   "cell_type": "code",
   "execution_count": 13,
   "metadata": {},
   "outputs": [],
   "source": [
    "data = \"\"\" @@5108141 <h> Saturday , 17 November 2012 <p> Emerging from the fog , as it were . I always forget just how all-consuming the first throes of rehearsal for an opera can be . Especially if , as in this case , the lead role is not yet cast ( it 's a hellishly difficult sing , and the intended singer pulled out just before musical rehearsals began . He is a consummate professional , so he must have had very solid reasons , but that still leaves other colleagues ( luckily not me : the role I am covering is not so big ) a bit adrift in a piece which requires long dialogues with the lead ... Let 's just say that does n't lead to happy relaxation , on the whole . <p> And I also have to admit to having been nervous before the initial music call . I had n't sung for this music director before ; and no matter what anyone says , it FEELS like an audition when you sing for someone in a position of power for the first time . It would of course have helped to have had masses of @ @ @ @ @ @ @ @ @ @ had a more voice-friendly opera to start with , but hey , beggars ca n't be choosers , and at least ( despite having missed my very first solo entrance due to still ... STILL ! ! ! ... having to mentally translate numbers from German to English , rats rats RATS ! ! ) we 've got that bit over with and from now on it 's simply business . <p> The interesting bit is just HOW exhausted one feels during this process . The brain seems to focus itself very narrowly , and everything which does n't directly concern the learning of this particular music is ignored . ( I remember coming across a colleague , who shall remain unnamed , stealing a roll of loo paper from the theatre , in the throes of rehearsals ; the ( understandable ) rationale was that there really had n't been enough time to hit the supermarket ... ) . <p> However I must admit that despite all the stress and uncertainty , I really do love these first few rehearsals . A question of how your role fits in @ @ @ @ @ @ @ @ @ @ amusing - the court ladies get to sing some really rather beautiful chords before my character leaps in and spoils it all ! ) thing is rather marvellous . <h> No comments :\n",
    "\"\"\""
   ]
  },
  {
   "cell_type": "markdown",
   "metadata": {},
   "source": [
    "####  <font color=red>Your turn! (2 minutes) </font> \n",
    "<font color=red> **Beginner:** What type of variable is `data`? Do you notice anything strange about the text?</font>  "
   ]
  },
  {
   "cell_type": "code",
   "execution_count": 15,
   "metadata": {},
   "outputs": [
    {
     "name": "stdout",
     "output_type": "stream",
     "text": [
      "textID\ttext\n",
      "----\t----\n",
      "\n",
      "@@124 Gran convocatoria para el concurso docente que se realiza en la Escuela Normal Con una inmensa convocatoria de docentes , convocada desde la 7.30 de este lunes en el salón de actos de la Escuela Normal Mariano Moreno , se realizó la primera jornada de el concurso para titularización de los cargos . El día comenzó con las palabras de bienvenidas de las autoridades , quienes hablaron de cientos de docentes que presentaron sus documentos que deben ser analizados por las autoridades . Los cargos fueron 138 , pero esa suma se incrementó debido a que muchos realizaron cambio de escuelas , abriendo otras oportunidades . Las jornadas continuaran este martes debido , precisamente , a el enorme número de docentes presentes . Estuvieron , la presidenta de el CGE , Graciela Bar , el profesor Héctor de la Fuente , vocal de presidencia , el secretario general de Agmer Fabián Peccín y la directora Departamental de Escuela , María del Carmen Tourfini de Córdoba . Más allá de esta actividad , desde AGMER Uruguay , se comunicó el cronograma de próximas actividades : Miércoles 31 de Julio @ @ @ @ @ @ @ @ @ @ entrega de material . Miércoles 31 de Julio : Asamblea de dos horas por turno para las escuelas nocturnas . Jueves 1 de Agosto : Asamblea de dos horas por turno en las Escuelas de los Turnos Mañana y Tarde . Jueves 1 de Agosto a las 18:00 : Asamblea Resolutiva en la Seccional . Viernes 2 de Agosto a las 09:00 : Congreso Provincial en Colón , donde se tratará la contra propuesta realizada por el Gobierno de la Provincia , que llevó a la suspensión de el para programado para el reinicio de clases , tras las vacaciones invernales . \n",
      "@@1124 Weretilneck anunció que se reforzará la seguridad en Sierra Grande Sierra Grande . - El gobernador de Río Negro , Alberto Weretilneck , anunció esta tarde que se trabajará para refuncionalizar el destacamento vial de Sierra Grande , reemplazando el actual por uno que cumpla con todas las características necesarias para mejorar el control de las rutas . Además , confirmó que se dotará a la fuerza de dos nuevos vehículos y se sumarán más agentes a las tareas de prevención . Luego de encabezar el acto de colación de 56 nuevos policías egresados de la Escuela de Suboficiales y Agentes de Sierra Grande , el mandatario dialogó con la prensa local . En ese marco , Weretilneck anunció que se retirará el destacamento vial que actualmente posee la Provincia a el sur de Sierra Grande . Paralelamente se tramitará la construcción de un nuevo puesto que cumpla con todas la necesidades de el personal para realizar sus tareas . Creemos que la lucha contra la droga y el delito tiene mucho que ver con el control de las rutas y los caminos , remarcó el mandatario . @ @ @ @ @ @ @ @ @ @ dos nuevos vehículos para la fuerza policial serrana . Se ha traído un vehículo y estamos también trayendo otra camioneta en las próximas horas , dijo al respecto . Además , confirmó que algunos de los efectivos que hoy se graduaron se quedarán en Sierra Grande para fortalecer el trabajo de prevención de el delito en la ciudad . Agenda Por otra parte , el titular de el Ejecutivo provincial anunció que el próximo martes a las 18 se realizará la teleconferencia con la Presidenta de la Nación , Cristina Fernández , que fue suspendida esta semana por el trágico accidente ocurrido a pocos kilómetros Puerto Madryn . En ese marco se inaugurará la Ruta=Nacional=Nº 232 en el segmento que une Chelforó con La Japonesa ( La Pampa ) . Además , detalló que su agenda incluye otro acto de egreso de efectivos policiales previsto para mañana a las 10 en General Roca y actividades en el Valle Medio en horas de el mediodía . Asimismo , adelantó que el lunes participará de el lanzamiento de los Juegos Evita en Cinco Saltos y el jueves encabezará la presentación de un nuevo @ @ @ @ @ @ @ @ @ @ Vivienda ( IPPV ) en Cipolletti . En esa misma jornada , pero en horas de la tarde , recibirá a los referentes de las ligas de fútbol de la provincia para avanzar en diversos temas comunes . Finalmente , anunció que a fines de la semana próxima encabezará los actos de lanzamiento de la temporada invernal en el cerro Perito Moreno de El Bolsón y también en Bariloche , donde recibirá el primer vuelo de Aerolíneas Argentinas con turistas proveniente de San Pablo ( Brasil ) . Para poder tomar las decisiones justas y correctas hay que estar en el lugar . La propia gente es la que nos dice si estamos trabajando bien o mal . Por eso es esencial tomar contacto con la mayor cantidad de gente posible , dijo el gobernador . Acompañamiento Por otra parte , señaló que se reunió con familiares de Aldo Pil y Paola Alegría , dos personas que perdieron la vida trágicamente en los últimos días en esa localidad . Me reuní con las familias . Les transmití todo mi apoyo y el acompañamiento de el Estado provincial , dijo el mandatario @ @ @ @ @ @ @ @ @ @ y dirán qué pasó en verdad serán los jueces . Educación Finalmente , el gobernador destacó que están muy avanzados los arreglos que se ejecutan en el Centro=de=Educación=Técnica=Nº 12 de la localidad . Nos habíamos comprometido a resolver el problema de el techo . Hoy vinimos y verificamos las obras que están en marcha y muy avanzadas , dijo el mandatario , quien además anunció que luego se trabajará en el reacondicionamiento de la instalación eléctrica de el edificio . Días pasados la Casa de Gobierno provincial fue testigo de el enojo de el gobernador , quien no dudó en retar a su ministro de Gobierno , el psiquiatra Luis Di Giáccomo , y a el secretario General de la Gobernación , el ex pichetista Hugo Lastra . Todo sucedió luego de que Alberto leyera una carta de Ampliar \n",
      "@@2124 Peccín : No hay un solo paso atrás Documento consensuado por la mayoría y minoría de la CDC de AGMER , leído por el Secretario General de AGMER , Fabián Peccín , en el acto central de la movilización docente . Compañeras / Compañeros : Desde AGMER venimos protagonizando desde hace muchos años una lucha inclaudicable con la firme convicción de que con la unidad , la organización yla lucha somos capaces de avanzar en nuestras reivindicaciones . Y en esto hemos sido muy claros frente a nuestra patronal : vamos a avanzar con el diálogo , la negociación , la discusión paritaria , la movilización , las huelgas , acciones todas que , según el momento e integralmente , vamos evaluando como correctas de aplicar en función de avanzar en nuestros legítimos reclamos . Venimos de vivir unas jornadas históricas de lucha con este paro de 72 horas que nos fortalece en la disputa por un salario digno , acción que tiene la legitimidad de la organización colectiva , basada en la unidad y en la toma de decisiones participativa y democrática , que es el acumulado @ @ @ @ @ @ @ @ @ @ desde este lugar , esta conducción viene a plantear a el Gobierno provincial que no hay un solo paso atrás , que no estamos dispuestos a retroceder un milímetro en las conquistas que hemos conseguido y que vamos a defender este proceso histórico en marcha que fuimos capaces de construir los trabajadores y el pueblo argentino . Venimos a decir que somos los trabajadores los que bancamos y demandamos las transformaciones que como pueblo necesitamos , en la construcción de la utopía colectiva de una sociedad justa , democrática , con inclusión social , libre y soberana . Desde esta convicción las jornadas vividas nos demuestran a los trabajadores que sólo con la certeza de el reclamo justo , con la unidad en la pelea y la organización puesta en acciones podremos defender los derechos adquiridos y avanzar , fundamentalmente , por aquellos que aún nos faltan conquistar . Es desde esta perspectiva de ofensiva y en este escenario actual que le decimos a el gobernador que : - Rechazamos la decisión unilateral de el Ministerio de Educación de cerrar la discusión paritaria y fijar un piso salarial lejano a la @ @ @ @ @ @ @ @ @ @ de el gobierno provincial por considerar la insuficiente y por no estar a la altura de una recomposición que supere el retroceso sufrido estos últimos años . - Reclamamos un salario digno que recomponga el salario docente que , desde el 2008 viene en caída libre , para ubicar a el salario docente en Entre Ríos por encima de el costo de vida , que permita vivir acorde a nuestras necesidades como trabajadores y a la de nuestras familias . - Exigimos el incremento de el mínimo no imponible y modificación de el impuesto a las ganancias para transformar lo en un impuesto a los altos ingresos para que no lo paguemos los trabajadores . - Solicitamos la universalidad de las asignaciones familiares . - Solicitamos una fuerte intervención de el Estado en defensa de el salario y de el consumo popular con políticas eficaces a la hora de intervenir en el control de los formadores de precios , a las empresas oligopólicas que , en resguardo de su rentabilidad trasladan a los precios , cualquier pauta de incremento salarial licuando nuestros salarios y empujando a profundizar el proceso inflacionario que @ @ @ @ @ @ @ @ @ @ el aumento de la inversión en infraestructura escolar que resuelva el problema de las condiciones de enseñar y aprender de nuestros compañeros docentes y de nuestros alumnos . - Defendemos de manera irrestricta de la Ley 8732 de jubilaciones y Pensiones . Le decimos NO a la armonización con el Estado nacional . - Repudiamos la decisión política de el descuento de los días de huelga , entendiendo que coartan el legítimo derecho a la huelga y a todo el andamiaje normativo de el CGE montado para penalizar la decisión de lucha de los docentes . - Defendemos el derecho histórico conseguido por la lucha sindical de el Decreto 1318 / 96 y exigimos la plena vigencia de el mismo . - Solicitamos la implementación de la propuesta de reforma tributaria de la CTA Entre Ríos que plantea profundizar los impuestos más progresivos , desactivar aquellos que son regresivos , recaudar entre los que más ganan y por ende los que más tienen . - Exigimos un mayor incremento de el presupuesto educativo que sostenga las políticas públicas que deben garantizar el derecho social a la educación de todas y todos @ @ @ @ @ @ @ @ @ @ extractivas que afectan el medio ambiente como el frackin y a el modelo de explotación agrícola sojero que fumiga hasta nuestras escuelas . - Exigimos la inmediata convocatoria a el diálogo y una propuesta superadora que contenga la demanda de los trabajadores . Por esto , junto a la CTERA , estamos de pie , celosos de lo conquistado , firmes a la hora de pelear por el derecho social a la educación , conscientes de que no hay que retroceder porque esto significaría volver a los nefastos años de los noventa de destrucción de el sistema educativo público y , en este sentido , planteamos la defensa de la paritaria nacional , la responsabilidad de el Estado nacional y de los estados provinciales en el sostenimiento económico de la escuela pública argentina y la necesidad de avanzar en una nueva ley de financiamiento nacional que fortalezca la inversión educativa desde el Estado nacional en un aumento a el 8 % de el PIB para la educación obligatoria . En este marco , con estas reivindicaciones y desde esta plaza , convocamos a la participación en la movilización nacional convocada por @ @ @ @ @ @ @ @ @ @ le a el gobierno nacional la inmediata reapertura de la paritaria , donde podamos discutir un salario digno para todos los trabajadores de la educación de el país . Así , reafirmamos una vez más , nuestro compromiso histórico en defensa de la Escuela pública y el derecho social a la educación , nuestra lucha reivindicativa tiene como centralidad la defensa de la escuela pública para la liberación de nuestro pueblo . No es una consigna vacía , es la convicción de que la principal batalla a librar es cultural y pedagógica , estamos convocados a protagonizar la disputa por una pedagogía emancipatoria y a esa lucha estamos convocados todos , padres , alumnos , trabajadores de la educación y nuestro pueblo . Por ello , la participación activa en el movimiento pedagógico latinoamericano nos compromete a ser parte de el desafío de la construcción de una educación pública latinoamericana al servicio de nuestros pueblos . Una educación liberadora para ser libres en el marco de un proyecto de provincia , de país y de una latinoamérica con más democracia , más distribución de la riqueza , más inclusión social ; @ @ @ @ @ @ @ @ @ @ \n",
      "@@4124 Lo que ha ocurrido con las artes y las letras y , en general , con toda la vida intelectual , ha sucedido también con el sexo . La civilización de el espectáculo no sólo ha dado el puntillazo a la vieja cultura ; asimismo está destruyendo una de sus manifestaciones y logros más excelsos : el erotismo . Un ejemplo , entre mil . A finales de 2009 hubo un pequeño alboroto mediático en España a el descubrir se que la Junta de Extremadura , en manos de los socialistas , había organizado , dentro de su plan de educación sexual de los escolares , unos tal eres de masturbación para niños y niñas a partir de los catorce años , campaña a la que bautizó , no sin picardía El placer está en tus manos . Ante las protestas de algunos contribuyentes de que se invirtiera de este modo el dinero de los impuestos , los voceros de la Junta alegaron que la educación sexual de los niños era indispensable para prevenir embarazos no deseados y que las clases de masturbación servirían para evitar males mayores @ @ @ @ @ @ @ @ @ @ Junta de Extremadura recibió las felicitaciones y el apoyo de la Junta de Andalucía , cuya Consejera de Igualdad y Bienestar Social , Micaela Navarro , anunció que en Andalucía comenzaría en breve una campaña similar a la extremeña . De otro lado , un intento de acabar con los tal eres de masturbación mediante una acción judicial que puso en marcha una organización afín a el Partido Popular y bautizada , con no menos chispa , Manos Limpias , fracasó de manera estrepitosa pues la Fiscalía=del=Tribunal=de=Justicia=de=Extremadu... no dio curso a la denuncia y la archivó . ¡ A masturbar se , pues , niños y niñas de el mundo ! Cuánta agua ha corrido en este planeta que todavía nos soporta a los humanos desde que , en mi niñez , los padres salesianos y los hermanos de La Sal e - - colegios en los que estudié - - nos asustaban con el espantajo de que los malos tocamientos producían la ceguera , la tuberculosis y la imbecilidad . Seis décadas después ¡ clases de paja en las escuelas ! Eso es el progreso , señores . ¿ Qué @ @ @ @ @ @ @ @ @ @ de excelencia y qué fiascos para ser desaprobados ? ¿ Dependerá de la cantidad de conocimientos que su memoria retenga o de la velocidad , cantidad y consistencia de los orgasmos que produzca la destreza táctil de chicos y chicas ? No son bromas . Si se tiene la audacia de abrir tal eres para iluminar a la puericia en las técnicas de la masturbación , estas preguntas son pertinentes . No tengo el menor reparo moral que oponer a la iniciativa El placer está en tus manos de la Junta de Extremadura . Reconozco las buenas intenciones que la animan y admito que , mediante campañas de esta índole , no es imposible que disminuyan los embarazos no queridos . Mi crítica es de índole sensual y sexual . Me temo que en vez de liberar a los niños de las supersticiones , mentiras y prejuicios que tradicionalmente han rodeado a el sexo , los tal eres de masturbación lo trivialicen aún más de lo que ya lo ha trivializado la civilización de nuestro tiempo de tal modo que acaben por convertir lo en un ejercicio sin misterio , disociado @ @ @ @ @ @ @ @ @ @ modo a las futuras generaciones de una fuente de placer que irrigó hasta ahora de manera tan fecunda la imaginación y la creatividad de los seres humanos . La vacuidad y chabacanería que han ido socavando la cultura han estropeado también en cierta forma otra de las más importantes conquistas de nuestra época en los países democráticos : la liberación sexual , el eclipse de muchos tabúes y prejuicios que rodeaban la vida erótica . Porque , a el igual que en los dominios de el arte y la literatura , la desaparición de las formas en la vida sexual no significa un progreso sino más bien un retroceso que desnaturaliza la libertad y empobrece el sexo , rebajándo lo a lo puramente instintivo y animal . La masturbación no necesita ser enseñada , ella se descubre en la intimidad y es uno de los quehaceres que fundan la vida privada . Ella va desgajando a el niño , a la niña , de su entorno familiar , individualizándo los y sensibilizándo los a el revelar les el mundo secreto de los deseos , e instruyéndo los sobre asuntos capitales como @ @ @ @ @ @ @ @ @ @ placer . Por eso , destruir los ritos privados y acabar con la discreción y el pudor que , desde que la sociedad humana alcanzó la civilización , han acompañado a el sexo no es combatir un prejuicio sino amputar de la vida sexual aquella dimensión que fue surgiendo en torno suyo a medida que la cultura y el desarrollo de las artes y las letras iban enriqueciéndo la y convirtiéndo la a ella misma en obra de arte . Sacar a el sexo de las alcobas para exhibir lo en la plaza pública es , paradójicamente , no liberalizar lo sino regresar lo a los tiempos de la caverna , cuando , como los monos y los perros , las parejas no habían aprendido todavía a hacer el amor , sólo a ayuntar se . La supuesta liberación de el sexo , uno de los rasgos más acusados de la modernidad en las sociedades occidentales , dentro de la cual se inscribe esta idea de dar clases de masturbación en las escuelas , quizá consiga abolir ciertos prejuicios tontos sobre el onanismo . En buena hora . Pero también podría @ @ @ @ @ @ @ @ @ @ acaso , acabe con él . ¿ Quién saldría ganando ? No los libertarios ni los libertinos , sino los puritanos y las iglesias . Y continuaría el delirio y la futilización de el amor que caracterizan a la civilización contemporánea en el mundo occidental . La idea de los talleres de masturbación es un nuevo eslabón en el movimiento que , para poner le una fecha de nacimiento ( aunque en verdad es anterior ) , comenzó en París en Mayo de 1968 y pretende poner fin a los obstáculos y prevenciones de carácter religioso e ideológico que , desde tiempos inveterados , han reprimido la vida sexual provocando innumerables sufrimientos , sobre todo a las mujeres y a las minorías sexuales , así como frustración , neurosis y otros desequilibrios psíquicos en quienes , debido a la rigidez de la moral reinante , se han visto discriminados , censurados y condenados a una insegura clandestinidad . Este movimiento ha tenido saludables consecuencias , desde luego , en los países occidentales , aunque en otras culturas , como la islámica , ha exacerbado las prohibiciones y la represión . El @ @ @ @ @ @ @ @ @ @ la mujer se ha evaporado y gracias a el o y a la generalización de el uso de la píldora las mujeres gozan hoy , si no exactamente de la misma libertad que los hombres , al menos de un margen de autonomía sexual infinitamente más ancho que sus abuelas y bisabuelas y que sus congéneres de los países musulmanes y tercermundistas . De otro lado , aunque sin desaparecer del todo , han ido reduciéndo se los prejuicios y anatemas y las disposiciones legales que hasta hace pocos años penaban la homosexualidad por considerar la una práctica perversa . Poco a poco va admitiéndo se en los países occidentales el matrimonio entre personas de el mismo sexo con los mismos derechos que los de las parejas heterosexuales , incluido el de adoptar niños . Y , también , de manera paulatina , se extiende la idea de que , en materia sexual , lo que hagan o dejen de hacer entre el os los adultos en uso de razón y decisión , es prerrogativa suya y nadie , empezando por el Estado y terminando por las iglesias , debe inmiscuir @ @ @ @ @ @ @ @ @ @ , por supuesto . Pero es un error creer , como los promotores de este movimiento liberador , que , desacralizándo lo , desvistiéndo lo de las veladuras , el pudor y los rituales que lo acompañan desde hace siglos , aboliendo de su práctica toda forma simbólica de transgresión , el sexo pasará a ser una práctica sana y normal en la ciudad . El sexo sólo es sano y normal entre los animales . Lo fue entre los bípedos cuando aún no éramos humanos del todo , es decir , cuando el sexo era en nosotros desfogue de el instinto y poco más que eso , una descarga física de energía que garantizaba la reproducción . La desanimalización de la especie fue un largo y complicado proceso y en él tuvo papel decisivo lo que Karl Popper llama el mundo tercero , el de la cultura y la invención , la lenta aparición de el individuo soberano , su emancipación de la tribu , con tendencias , disposiciones , designios , anhelos , deseos , que lo diferenciaban de los otros y lo constituían como ser único e intransferible @ @ @ @ @ @ @ @ @ @ de el individuo y , como mostró Sigmund Freud , en ese dominio , el más recóndito de la soberanía individual , se fraguan los rasgos distintivos de cada personalidad , lo que nos pertenece como propio y nos hace diferentes de los demás . Ése es un dominio privado y secreto y deberíamos procurar que siga siéndo lo si no queremos cegar una de las fuentes más intensas de el placer y de la creatividad , es decir , de la civilización . Georges Bataille no se equivocaba cuando alertó contra los riesgos de una permisividad desenfrenada en materia sexual . La desaparición de los prejuicios , algo liberador , en efecto , no puede significar la abolición de los rituales , el misterio , las formas y la discreción gracias a los cuales el sexo se civilizó y humanizó . Con sexo público , sano y normal , la vida se volvería más aburrida , mediocre y violenta de lo que es . Hay muchas formas de definir el erotismo , pero , tal vez , la principal sea llamar lo la desanimalización de el amor físico , su @ @ @ @ @ @ @ @ @ @ a el progreso de la libertad y la influencia de la cultura en la vida privada , de mera satisfacción de una pulsión instintiva en un quehacer creativo y compartido que prolonga y sublima el placer físico rodeándo lo de una puesta en escena y unos refinamientos que lo convierten en obra de arte . Tal vez en ninguna otra actividad se haya ido estableciendo una frontera tan evidente entre lo animal y lo humano como en el dominio de el sexo . Esta diferencia en un principio , en la noche de los tiempos , no existía y confundía a ambos en un acoplamiento carnal sin misterio , sin gracia , sin sutileza y sin amor . La humanización de la vida de hombres y mujeres es un largo proceso en el que intervienen el avance de los conocimientos científicos , las ideas filosóficas y religiosas , el desarrollo de las artes y las letras . En esa trayectoria nada cambia tanto como la vida sexual . Ésta ha sido siempre un fermento de la creación artística y literaria y , recíprocamente , pintura , literatura , música , escultura @ @ @ @ @ @ @ @ @ @ humana han contribuido a el enriquecimiento de el placer a través de la práctica sexual . No es abusivo decir que el erotismo representa un momento elevado de la civilización y que es uno de sus componentes determinantes . Para saber cuán primitiva es una comunidad o cuánto ha avanzado en su proceso civilizador nada tan útil como escrutar sus secretos de alcoba y averiguar cómo sus miembros hacen el amor . El erotismo no sólo tiene la función positiva y ennoblecedora de embellecer el placer físico y abrir un amplio abanico de sugestiones y posibilidades que permitan a los seres humanos satisfacer sus deseos y fantasías . Es también una actividad que saca a flote aquel os fantasmas escondidos en la irracionalidad que son de índole destructiva y mortífera . Freud los l amó la vocación tanática , que se disputa con el instinto vital y creativo - - el Eros - - la condición humana . Librados a sí mismos , sin freno alguno , aquel os monstruos de el inconsciente que asoman en la vida sexual y piden derecho de ciudad podrían acarrear una violencia vertiginosa ( como @ @ @ @ @ @ @ @ @ @ el marqués de Sade ) y hasta la desaparición de la especie . Por eso el erotismo no sólo encuentra en la prohibición un acicate voluptuoso , también un límite violado el cual se vuelve sufrimiento y muerte . Yo descubrí que el erotismo estaba inseparablemente unido a la libertad humana , pero también a la violencia , leyendo a los grandes maestros de la literatura erótica que reunió Guillaume Apollinaire en la colección que dirigió ( prologando y traduciendo algunos de sus volúmenes ) con el título Les maîtres de l'amour . Ocurrió en Lima , hacia 1955 . Acababa de casar me por primera vez y debí acumular varios trabajos a fin de ganar me la vida . Llegué a tener ocho , al mismo tiempo que continuaba mis estudios universitarios . El más pintoresco de el os era fichar los muertos de los cuarteles coloniales de el cementerio Presbítero Maestro , de Lima , cuyos nombres habían desaparecido de los archivos de la Beneficencia . Lo hacía domingos y días feriados , yéndo me a el cementerio equipado con una escalerita , fichas y lápices . Después de @ @ @ @ @ @ @ @ @ @ con los nombres y fechas , y la Beneficencia Pública de Lima me pagaba por muerto . Pero el más grato de mis ocho trabajos alimenticios no fue éste sino el de ayudante de bibliotecario de el Club Nacional . El bibliotecario era mi maestro , el historiador Raúl Porras Barrenechea . Mis obligaciones consistían en pasar dos horas diarias de lunes a viernes en el elegante edificio de el Club , símbolo de la oligarquía peruana , que por aquel os años celebraba su centenario . En teoría , debía dedicar ese par de horas a fichar las nuevas adquisiciones de la biblioteca , pero , no sé si por falta de presupuesto o por negligencia de su directiva , el Club Nacional casi no adquiría ya libros en aquel os años , de modo que podía dedicar aquellas dos horas a escribir y leer . Eran las dos horas más felices de aquel os días en que desde el amanecer hasta la noche no paraba de hacer cosas que me interesaban poco o nada . No trabajaba en la bella sala de lectura de la planta baja de el @ @ @ @ @ @ @ @ @ @ Allí descubrí con felicidad , disimulados detrás de unos discretos biombos y unas cortinillas pudibundas , una espléndida colección de libros eróticos , casi todos franceses . Allí leí las cartas y fantasías eróticas de Diderot y de Mirabeau , a el marqués de Sade y a Restif de la Bretonne , a Andréa de Nerciat , a el Aretino , las Memorias de una cantante alemana , la Autobiografía de un inglés , las Memorias de Casanova Las amistades peligrosas de Choderlos de Laclos y no sé cuántos otros libros clásicos y emblemáticos de la literatura erótica . Ella tiene antecedentes clásicos , desde luego , pero irrumpe de verdad en Europa en el siglo XVI I , en pleno auge de los philosophes y sus grandes teorías renovadoras de la moral y la política , su ofensiva contra el oscurantismo religioso y su apasionada defensa de la libertad . Filosofía , sedición , placer y libertad era lo que pedían y practicaban en sus escritos estos pensadores y artistas que reivindicaban orgullosos el apelativo de \"« libertinos con que los llamaban , recordando que el sentido primario de ese @ @ @ @ @ @ @ @ @ @ o desafía a Dios y a la religión en nombre de la libertad . La literatura libertina es muy desigual , desde luego , no abundan las obras maestras entre las que produjo , aunque se encuentran algunas novelas o textos de gran valía en medio de muchas otras de escasa o nula significación artística . La limitación principal que suele empobrecer la es que , concentrados de manera obsesiva y excluyente en la descripción de experiencias sexuales , los libros sólo eróticos pronto sucumben a la repetición y a la monomanía , porque la actividad sexual , aunque intensa y fuente maravillosa de goces , es limitada y , si se la separa de el resto de actividades y funciones que constituyen la vida de hombres y mujeres , pierde vitalidad y ofrece un carácter recortado , caricatural e inauténtico de la condición humana . Pero esto no es óbice para que en la literatura libertina resuene siempre un grito de libertad en contra de todas las sujeciones y servidumbres - - religiosas , morales y políticas - - que restringen el derecho a el libre albedrío , a la @ @ @ @ @ @ @ @ @ @ un derecho que por primera vez se reclama en la historia de la civilización : el de poder materializar las fantasías y deseos que el sexo despierta en los seres humanos . El gran mérito de las monótonas novelas de el marqués de Sade es mostrar en ellas cómo el sexo , si se ejerce sin limitación ni freno alguno , acarrea enloquecidas violencias pues es el vehículo privilegiado a través de el cual se manifiestan los instintos más destructivos de la personalidad . Lo ideal en este dominio es que las fronteras dentro de las cuales se despliega la vida sexual se ensanchen lo suficiente para que hombres y mujeres puedan actuar con libertad , volcando en ella sus deseos y fantasmas , sin sentir se amenazados ni discriminados , pero dentro de ciertas formas culturales que preserven a el sexo su naturaleza privada e íntima , de manera que la vida sexual no se banalice ni animalice . Eso es el erotismo . Con sus rituales , fantasías , vocación de clandestinidad , amor a las formas y a la teatralidad , nace como un producto de la alta @ @ @ @ @ @ @ @ @ @ las gentes primitivas y bastas , pues se trata de un quehacer que exige sensibilidad refinada , cultura literaria y artística y cierta vocación transgresora . Transgresora es una palabra que en este caso hay que tomar con pinzas , pues dentro de el contexto erótico no significa negación de la regla moral o religiosa imperante , sino ambas cosas a la vez : su reconocimiento y su rechazo , mezclados de manera indisoluble . Violando la norma en la intimidad , con discreción y de común acuerdo , la pareja o el grupo llevan a cabo una representación , un juego teatral que inflama su placer con un aderezo de desafío y libertad , a la vez que preserva a el sexo el estatuto de quehacer velado , confidencial y secreto . Sin el cuidado de las formas , de ese ritual que , a la vez que enriquece , prolonga y sublima el placer , el acto sexual retorna a ser un ejercicio puramente físico - - una pulsión de la naturaleza en el organismo humano de la que el hombre y la mujer son meros instrumentos pasivos - @ @ @ @ @ @ @ @ @ @ el o nos ilustra , sin pretender lo ni saber lo , esa literatura de pacotilla que pretendiendo ser erótica sólo llega a los rudimentos vulgares de el género : la pornografía . La literatura erótica se vuelve pornografía por razones estrictamente literarias : el descuido de las formas . Es decir , cuando la negligencia o la torpeza de el escritor a el utilizar el lenguaje , construir una historia , desarrollar los diálogos , describir una situación , desvela involuntariamente todo lo que hay de soez y repulsivo en un acoplamiento sexual exonerado de sentimiento y elegancia - - de mise en scène y de rito - - , convertido en mera satisfacción de el instinto reproductor . Hacer el amor en nuestros días , en el mundo occidental , está mucho más cerca de la pornografía que de el erotismo y , paradójicamente , el o ha resultado como una deriva degradada y perversa de la libertad . Los tal eres de masturbación a los que asistirán en el futuro los jóvenes extremeños y andaluces como parte de el currículo escolar tienen la apariencia de un paso audaz @ @ @ @ @ @ @ @ @ @ el dominio sexual . En la realidad , es probable que esta y otras iniciativas semejantes destinadas a desacralizar la vida sexual convirtiéndo la en una práctica tan común y corriente como comer , dormir e ir a el trabajo , tengan como consecuencia desilusionar precozmente a las nuevas generaciones de la práctica sexual . Ésta perderá misterio , pasión , fantasía y creatividad y se habrá banalizado hasta confundir se con una mera calistenia . Con el resultado de inducir a los jóvenes a buscar el placer en otra parte , probablemente en el alcohol , la violencia y las drogas . Por eso , si queremos que el amor físico contribuya a enriquecer la vida de las gentes , liberémoslo de los prejuicios , pero no de las formas y los ritos que lo embellecen y civilizan , y , en vez de exhibir lo a plena luz y por las calles , preservemos esa privacidad y discreción que permiten a los amantes jugar a ser dioses y sentir que lo son en esos instantes intensos y únicos de la pasión y el deseo compartidos . ChatCrypt : salones @ @ @ @ @ @ @ @ @ @ que utiliza la encriptación AES- 256 CTR de modo que los intercambios son totalmente seguros . Basta crear un salón y comparti . . . \n",
      "@@5124 Una definición que permita la aplicación integral de la Ley de Servicios de Comunicación Audiovisual fue requerida desde el Consejo Federal de Comunicación Audiovisual . Reclaman que la Corte Suprema de Justicia no prolongue más tiempo el análisis de los artículos de la normativa , que son cuestionados por el Grupo Clarín . Representantes de las provincias y de las organizaciones que integran el c manifestaron - - mediante un comunicado - que si la Corte considera necesaria una Audiencia como paso previo a el fallo , ésta será una instancia más en la que la sociedad defenderá la legalidad , legitimidad y el espíritu profundamente democrático de la Ley . No se puede seguir dilatando en el tiempo una definición que es requerida no solo por todos los actores de la comunicación , sino por todas aquellas organizaciones y foros que se movilizaron y trabajaron para tener una legislación de avanzada a nivel mundial , que abarca y contiene a todos los sectores sociales que quieren vivir en un país más justo e inclusivo , un país que necesita de medios democráticos . Hoy vemos y padecemos @ @ @ @ @ @ @ @ @ @ salvaje no solo a el gobierno , sino a todo aquel que no comulgue con sus intereses , que claro está no son los de el pueblo argentino señaló el titular de el CoFeCA , Pedro Báez . Los integrantes de el Consejo recordaron que la Ley de Medios es el fruto de un proceso de profundo debate democrático , de foros , audiencias públicas , charlas y movilizaciones , que tuvieron la participación activa y comprometida de organizaciones sociales , de derechos humanos , de universidades nacionales , de pueblos originarios , sindicatos , empresas pymes , cooperativas y comunitarias , y que se desarrollaron en todo el país . Quienes cuestionan su constitucionalidad y encuentran en la justicia cómplices para dilatar su aplicación tienen un claro y único objetivo : fortalecer su posición de poder económico dominante . El CoFeCA , como órgano con representación federal y de todos los sectores involucrados en la comunicación audiovisual reafirma una vez más su plena convicción de el carácter constitucional y democrático de todos los artículos la Ley , esperando una pronta resolución por parte de la Corte Suprema de Justicia . @ @ @ @ @ @ @ @ @ @ entrada fue publicada el Viernes , agosto 23 , 2013 a las 20:59 pm en las categorías Noticias . Usted puede seguir los comentarios usando el feed RSS 2.0 . Los comentarios están cerrados , pero puede dejar un trackback desde su sitio . \n"
     ]
    }
   ],
   "source": [
    "print(data)"
   ]
  },
  {
   "cell_type": "markdown",
   "metadata": {},
   "source": [
    "<font color=dark red> **Intermediate:** Practice reading in another file using the `.readlines()` function. What does this do? What type of object is it? Hint: Don't forget to first open the file.</font> \n",
    " "
   ]
  },
  {
   "cell_type": "code",
   "execution_count": null,
   "metadata": {},
   "outputs": [],
   "source": []
  },
  {
   "cell_type": "markdown",
   "metadata": {},
   "source": [
    "## 2. Cleaning Data"
   ]
  },
  {
   "cell_type": "markdown",
   "metadata": {},
   "source": [
    "After reading in a data file, it is important look at the data to see if there are any encoding issues or other textual isses that need to be addressed. The Spanish sample text above contains random insertions of the symbol \"@\". This is something we need to remove before we process the data. \n",
    "We will use a new function, `replace` to sustitute the symbols we wish to remove with nothing. "
   ]
  },
  {
   "cell_type": "code",
   "execution_count": null,
   "metadata": {},
   "outputs": [],
   "source": [
    "data_clean = data.replace(\"@\", \"\")\n",
    "data_clean"
   ]
  },
  {
   "cell_type": "markdown",
   "metadata": {},
   "source": [
    "####  <font color=red>Your turn! (4 minutes) </font> \n",
    "<font color=red> **Beginner**: Did this solve the problem completely? If not, how might you fix it? What other elements might you want to remove? \n",
    "Practice using the `.replace` function on other string objects. </font>  "
   ]
  },
  {
   "cell_type": "code",
   "execution_count": null,
   "metadata": {},
   "outputs": [],
   "source": []
  },
  {
   "cell_type": "markdown",
   "metadata": {},
   "source": [
    "<font color= dark red> **Advanced:** What is we also wanted to remove the numbers that follow @@? We can use a new function, `re.sub` from the `re` package to use [regular expressions](https://www.w3schools.com/python/python_regex.asp). First we need to import the package using the `import` function. \n",
    "    \n",
    "What regular expression is needed to identify the sequences @@124 @@1124, etc.? </font>  "
   ]
  },
  {
   "cell_type": "code",
   "execution_count": null,
   "metadata": {},
   "outputs": [],
   "source": [
    "import re\n",
    "data_clean = re.sub(\"@ \", \"\", data) #remove all @"
   ]
  },
  {
   "cell_type": "markdown",
   "metadata": {},
   "source": [
    "## 3. Annotating Data\n",
    "We will use the Spacy package to create annotated linguistic data. If you have not used this package before, you will first need to install it via the console. You only need to do this once on a given computer. \n",
    "\n",
    "`conda install -c conda-forge spacy`\n",
    "`python -m spacy download en_core_web_sm\n",
    "python -m spacy download pt_core_news_sm\n",
    "python -m spacy download es_core_news_sm`"
   ]
  },
  {
   "cell_type": "markdown",
   "metadata": {},
   "source": [
    "Import the Spacy module and create an object for each language you will use, Spanish, English, etc. "
   ]
  },
  {
   "cell_type": "code",
   "execution_count": null,
   "metadata": {},
   "outputs": [],
   "source": [
    "import spacy\n",
    "nlp_en = spacy.load(\"en_core_web_sm\")\n",
    "nlp_sp = spacy.load(\"es_core_news_sm\")"
   ]
  },
  {
   "cell_type": "markdown",
   "metadata": {},
   "source": [
    "Use the `nlp_sp` function to create a Spacy Object from the data. Which variable should we use? `data` or `data_clean`"
   ]
  },
  {
   "cell_type": "code",
   "execution_count": null,
   "metadata": {},
   "outputs": [],
   "source": [
    "#data_spacy = nlp_sp(data)\n",
    "data_spacy = nlp_sp(data_clean)\n",
    "type(data_spacy)\n",
    "print(data_spacy)"
   ]
  },
  {
   "cell_type": "markdown",
   "metadata": {},
   "source": [
    "### Tokenization\n",
    "Let's look at how the data_spacy object divides a text into sentences and tokens. But first we need to learn about loops"
   ]
  },
  {
   "cell_type": "markdown",
   "metadata": {},
   "source": [
    "#### Loops\n",
    "If we want to look at every element of a list and perform a repeated task, we use a loop.  \n",
    "\n",
    "The general structure is:\n",
    "```\n",
    "for <element> in <list>:\n",
    "    <do something>\n",
    "    ...\n",
    "```\n",
    "This `for`-loop tells Python to take each element from a `list`, call it `element`, and then do the things that follow to it. Note that the words **`for`** and **`in`** are reserved words, meaning that you should not use them as a variable name. The colon at the end of the line is important part of the syntax and the following indent. It tells Python that everything that comes afterwards is what you want to do with each element."
   ]
  },
  {
   "cell_type": "code",
   "execution_count": null,
   "metadata": {},
   "outputs": [],
   "source": [
    "fruits = [\"apples\", \"bananas\", \"pears\"]\n",
    "\n",
    "for item in fruits:\n",
    "    print(item)"
   ]
  },
  {
   "cell_type": "code",
   "execution_count": null,
   "metadata": {},
   "outputs": [],
   "source": [
    "cap_fruits = []\n",
    "for item in fruits:\n",
    "    cap_item = item.capitalize()\n",
    "    cap_fruits.append(cap_item)"
   ]
  },
  {
   "cell_type": "markdown",
   "metadata": {},
   "source": [
    "####  <font color=red>Your turn! (4 minutes) </font> \n",
    "<font color=red> **Beginner:** Create a loop that takes each element, deletes the 's' and prints the result. Play around with the `.upper()` and `.swapcase()` methods with the loop to see what they do </font>  "
   ]
  },
  {
   "cell_type": "code",
   "execution_count": null,
   "metadata": {},
   "outputs": [],
   "source": []
  },
  {
   "cell_type": "markdown",
   "metadata": {},
   "source": [
    "<font color= dark red> **Intermediate:** Make a new list of integers and another empty list. Create a loop that adds 5 to each element, adds the result to the new list. </font>  "
   ]
  },
  {
   "cell_type": "markdown",
   "metadata": {},
   "source": [
    "Let's go back to tokenization. The data_spacy object is like a list in that you can loop over it to access each token."
   ]
  },
  {
   "cell_type": "code",
   "execution_count": null,
   "metadata": {},
   "outputs": [],
   "source": [
    "# at the word level\n",
    "for token in data_spacy: \n",
    "    print(token.text)"
   ]
  },
  {
   "cell_type": "code",
   "execution_count": null,
   "metadata": {},
   "outputs": [],
   "source": [
    "for index, token in enumerate(data_spacy):\n",
    "    print(index, token.text)"
   ]
  },
  {
   "cell_type": "code",
   "execution_count": null,
   "metadata": {},
   "outputs": [],
   "source": [
    "# at the sentence level\n",
    "for index, sent in enumerate(data_spacy.sents): # Loops\n",
    "    print(index, sent.text)\n",
    "    \n",
    "#[sent.text for sent in data_spacy.sents] # List Comprehension - ADVANCED\n",
    "\n",
    "len(data_spacy) # number of tokens in the text"
   ]
  },
  {
   "cell_type": "markdown",
   "metadata": {},
   "source": [
    "### POS Tags\n",
    "Spacy has two types of POS tags. They can be accessed for each token via attributes.\n",
    "* POS: The simple [UPOS](https://universaldependencies.org/docs/u/pos/) part-of-speech tag.\n",
    "* Tag: The detailed part-of-speech tag."
   ]
  },
  {
   "cell_type": "code",
   "execution_count": null,
   "metadata": {},
   "outputs": [],
   "source": [
    "for index, token in enumerate(data_spacy): # Loop\n",
    "    print(index, token.text, token.pos_, token.tag_)"
   ]
  },
  {
   "cell_type": "markdown",
   "metadata": {},
   "source": [
    "#### Filtering data\n",
    "\"If\" statements can be a useful tool within loops to filter data. The general Python syntax for a simple if statement is. \n",
    "`if condition :\n",
    "    indentedStatementBlock`\n",
    "    \n",
    "`If` statements many utilize a variety of logical conditions, such as:\n",
    "* Equals: a == b\n",
    "* Not Equals: a != b\n",
    "* Less than: a < b\n",
    "* Less than or equal to: a <= b\n",
    "* Greater than: a > b\n",
    "* Greater than or equal to: a >= b"
   ]
  },
  {
   "cell_type": "code",
   "execution_count": 1,
   "metadata": {},
   "outputs": [
    {
     "name": "stdout",
     "output_type": "stream",
     "text": [
      "b is greater than a\n"
     ]
    }
   ],
   "source": [
    "a = 33\n",
    "b = 200\n",
    "if b > a:\n",
    "  print(\"b is greater than a\")"
   ]
  },
  {
   "cell_type": "markdown",
   "metadata": {},
   "source": [
    "We can now use an `if` statement within a `for` loop to identify all the verbs within our text."
   ]
  },
  {
   "cell_type": "code",
   "execution_count": null,
   "metadata": {},
   "outputs": [],
   "source": [
    "for token in data_spacy:\n",
    "    if token.pos_ == \"VERB\":\n",
    "        print(token.text)"
   ]
  },
  {
   "cell_type": "markdown",
   "metadata": {},
   "source": [
    "####  <font color=red>Your turn! (4 minutes) </font> \n",
    "<font color=red> **Beginner:** Create an `if` statement, using another logical condition. Try testing both integers and string objects.  </font>  "
   ]
  },
  {
   "cell_type": "code",
   "execution_count": null,
   "metadata": {},
   "outputs": [],
   "source": []
  },
  {
   "cell_type": "markdown",
   "metadata": {},
   "source": [
    "<font color=red> **Advanced:** Create a `for` loop with an  `if` statement to identify all the nouns in our text. Can you write a line of code to figure out how many nouns there are total?  </font>  "
   ]
  },
  {
   "cell_type": "markdown",
   "metadata": {},
   "source": [
    "### Named Entities"
   ]
  },
  {
   "cell_type": "code",
   "execution_count": null,
   "metadata": {},
   "outputs": [],
   "source": [
    "for token in data_spacy: # Loop\n",
    "    print(token.text, token.ent_iob_)\n"
   ]
  },
  {
   "cell_type": "code",
   "execution_count": null,
   "metadata": {},
   "outputs": [],
   "source": [
    "for ent in data_spacy.ents:\n",
    "    print(ent.text, ent.label_)"
   ]
  },
  {
   "cell_type": "markdown",
   "metadata": {},
   "source": [
    "### Other Annotations"
   ]
  },
  {
   "cell_type": "code",
   "execution_count": null,
   "metadata": {},
   "outputs": [],
   "source": [
    "[(token, token.is_stop) for token in data_spacy] # Stop words\n",
    "[(token, token.lemma_) for token in data_spacy] # Lemmas\n",
    "[(token, token.dep_) for token in data_spacy] # dependencies"
   ]
  },
  {
   "cell_type": "code",
   "execution_count": null,
   "metadata": {},
   "outputs": [],
   "source": [
    "# Analyze syntax\n",
    "[chunk.text for chunk in data_spacy.noun_chunks])"
   ]
  },
  {
   "cell_type": "code",
   "execution_count": null,
   "metadata": {},
   "outputs": [],
   "source": [
    "from spacy import displacy\n",
    "doc = nlp_en(\"This is a sentence.\")\n",
    "displacy.serve(doc, style=\"dep\")"
   ]
  },
  {
   "cell_type": "markdown",
   "metadata": {},
   "source": [
    "####  <font color=red>Your turn! (6 minutes) </font> \n",
    "<font color=red> **Beginner:** Read in a new document. Explore the various tags by looping over the data. Can you view various tags at once? </font>\n",
    "\n"
   ]
  },
  {
   "cell_type": "code",
   "execution_count": null,
   "metadata": {},
   "outputs": [],
   "source": []
  },
  {
   "cell_type": "code",
   "execution_count": null,
   "metadata": {},
   "outputs": [],
   "source": []
  },
  {
   "cell_type": "markdown",
   "metadata": {},
   "source": [
    "## 4. Creating a dataframe\n",
    "After exploring the annotation levels available in Spacy, we can create a dataframe that contains the information we are interested in. We will use the `pandas` package to create a dataframe and then output of dataframe into a csv file that can be read into R for statistical analysis.First we will import the `pandas` package using the `import` function."
   ]
  },
  {
   "cell_type": "code",
   "execution_count": null,
   "metadata": {},
   "outputs": [],
   "source": [
    "import pandas as pd\n",
    "\n",
    "df = pd.DataFrame()\n",
    "df['Token'] = [token.text for token in data_spacy]\n",
    "df['POS'] = [token.pos_ for token in data_spacy]\n",
    "df['NE'] = [token.ent_iob_ for token in data_spacy]\n",
    "df['Lemma'] = [token.lemma_ for token in data_spacy]\n",
    "df['Tag'] = [token.tag_ for token in data_spacy]\n",
    "\n",
    "df\n"
   ]
  },
  {
   "cell_type": "markdown",
   "metadata": {},
   "source": [
    "#### <font color=red>Your turn!</font> \n",
    "\n",
    "<font color=red>Create a dataframe with a column for POS, NE, and Lemma</font> "
   ]
  },
  {
   "cell_type": "code",
   "execution_count": null,
   "metadata": {},
   "outputs": [],
   "source": []
  },
  {
   "cell_type": "markdown",
   "metadata": {},
   "source": [
    "<font color=dark red> **Advanced:** Create a dataframe only of the nouns appearing in the text. Have a column for lemma, NE and _is_stop annotations. Can you create a column containing the sentence each noun comes from?</font>  \n",
    " "
   ]
  },
  {
   "cell_type": "code",
   "execution_count": null,
   "metadata": {},
   "outputs": [],
   "source": []
  },
  {
   "cell_type": "markdown",
   "metadata": {},
   "source": [
    "## 5. Outputing data"
   ]
  },
  {
   "cell_type": "code",
   "execution_count": null,
   "metadata": {},
   "outputs": [],
   "source": [
    "df.to_csv(r'Data/SpacyDF.csv', index=None, header=True)"
   ]
  },
  {
   "cell_type": "markdown",
   "metadata": {},
   "source": []
  }
 ],
 "metadata": {
  "kernelspec": {
   "display_name": "Python 3",
   "language": "python",
   "name": "python3"
  },
  "language_info": {
   "codemirror_mode": {
    "name": "ipython",
    "version": 3
   },
   "file_extension": ".py",
   "mimetype": "text/x-python",
   "name": "python",
   "nbconvert_exporter": "python",
   "pygments_lexer": "ipython3",
   "version": "3.7.6"
  }
 },
 "nbformat": 4,
 "nbformat_minor": 2
}
