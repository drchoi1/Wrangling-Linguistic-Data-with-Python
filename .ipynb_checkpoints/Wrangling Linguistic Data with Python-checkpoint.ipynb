{
 "cells": [
  {
   "cell_type": "markdown",
   "metadata": {},
   "source": [
    "# Welcome to Wrangling Linguistic Data with Python \n",
    "This workshop will introduce you to the programming language Python and walk you through a typical workflow for converting raw text into an annotated linguistic dataset.  We will cover various computational tasks, including reading in raw text files, segmenting text into sentences and tokens, and annotating tokens for various levels of metadata. We will explore the types of linguistic annotation available in the NLP package SpaCy, such as part-of-speech, lemma, and syntactic function. After annotating texts, we will cover techniques for searching and filtering data and use regular expressions to look for word patterns. This workshop is designed to be accessible to both those who are new to programming as well as those who have experience programming.  "
   ]
  },
  {
   "cell_type": "markdown",
   "metadata": {},
   "source": [
    "## 0. Practicing with Objects and Functions\n",
    "#### Objects\n",
    "We will look at three types of objects here: \n",
    "* string - sequence of characters, marked by single (`'`) or double (`\"`) quotes\n",
    "* integer - a single interger (ex. 1, 2, 3, 4, or 5)\n",
    "* list - group of several objects together, marked by square brackets `[]`\n",
    "\n",
    "In order to reference these objects within our code, we assign them to a variable, using equals sign (=) and then start using it. In order to manipulate and utlizes these objects, we apply functions and methods to them. In essence functions and methods transform something into something else. "
   ]
  },
  {
   "cell_type": "code",
   "execution_count": 2,
   "metadata": {},
   "outputs": [
    {
     "name": "stdout",
     "output_type": "stream",
     "text": [
      "This is a string\n"
     ]
    }
   ],
   "source": [
    "a = \"This is a string\" \n",
    "b = 4 \n",
    "c = [a, b]\n",
    "print(a)"
   ]
  },
  {
   "cell_type": "code",
   "execution_count": 3,
   "metadata": {},
   "outputs": [],
   "source": [
    "verb_count = 88\n",
    "noun_count = 72"
   ]
  },
  {
   "cell_type": "markdown",
   "metadata": {},
   "source": [
    "#### Functions\n",
    "In order to manipulate and utlizes these objects, we apply functions and methods to them. In essence, functions and methods transform something into something else.  "
   ]
  },
  {
   "cell_type": "code",
   "execution_count": 10,
   "metadata": {},
   "outputs": [
    {
     "name": "stdout",
     "output_type": "stream",
     "text": [
      "This is a string\n",
      "4\n",
      "['This is a string', 4]\n"
     ]
    }
   ],
   "source": [
    "print(a) # use the print function to see what variable \"a\" is\n",
    "print(b)\n",
    "print(c)"
   ]
  },
  {
   "cell_type": "code",
   "execution_count": 9,
   "metadata": {},
   "outputs": [
    {
     "data": {
      "text/plain": [
       "list"
      ]
     },
     "execution_count": 9,
     "metadata": {},
     "output_type": "execute_result"
    }
   ],
   "source": [
    "type(c) # use the type function to see what type of variable \"a\" is "
   ]
  },
  {
   "cell_type": "markdown",
   "metadata": {},
   "source": [
    "#### Comments\n",
    "Comments in Python begin with a hash mark (#) and whitespace character and continue to the end of the line. Comments are not executed; they appear in code to improve the readability for humans to read.\n",
    "\n",
    "`# This is a comment` "
   ]
  },
  {
   "cell_type": "markdown",
   "metadata": {},
   "source": [
    "####  <font color=red>Your turn! (4 minutes) </font> \n",
    "<font color=red> **Beginner:** Create new variables of different types, print them, and verify their types using the `print` and `type` functions. Create a list. Play around with numbers with decimals. What is that variable type called?</font> "
   ]
  },
  {
   "cell_type": "code",
   "execution_count": null,
   "metadata": {},
   "outputs": [],
   "source": []
  },
  {
   "cell_type": "markdown",
   "metadata": {},
   "source": [
    "<font color=dark red> **Intermediate:** Play around with the function `len()` on lists and strings. What does this function do? Try adding integers together and strings together with `+`. What happens? Can you at integers and strings together? \n",
    "Try using [string methods](http://www.python-ds.com/python-3-string-methods), similar to functions Python except they are attached to an object.\n",
    "</font> "
   ]
  },
  {
   "cell_type": "code",
   "execution_count": 5,
   "metadata": {},
   "outputs": [
    {
     "data": {
      "text/plain": [
       "'helloyou'"
      ]
     },
     "execution_count": 5,
     "metadata": {},
     "output_type": "execute_result"
    }
   ],
   "source": [
    "\"hello\" + \"you\""
   ]
  },
  {
   "cell_type": "markdown",
   "metadata": {},
   "source": [
    "<font color=dark red> **Advanced:** Try using [string methods](http://www.python-ds.com/python-3-string-methods), such as `.upper()`, `.capitalize()`, and `.split()`. Methods are similar to functions Python except they are attached to an object. \n",
    "</font> "
   ]
  },
  {
   "cell_type": "code",
   "execution_count": 10,
   "metadata": {},
   "outputs": [
    {
     "data": {
      "text/plain": [
       "'This is a string'"
      ]
     },
     "execution_count": 10,
     "metadata": {},
     "output_type": "execute_result"
    }
   ],
   "source": [
    "tokens = a.split()\n",
    "a"
   ]
  },
  {
   "cell_type": "markdown",
   "metadata": {},
   "source": [
    "## 1. Reading in Data\n",
    "We first need to read in our file so we can access our data. We will read in a sample file from the Davies Corpus that are readily accessible at https://www.corpusdata.org/formats.asp. All the data files are available in this repository within the Data folder."
   ]
  },
  {
   "cell_type": "markdown",
   "metadata": {},
   "source": [
    "#### Basic Reading in Data\n",
    "First we create an object for the file with the `open` function and then we read it into a variable with the `read` function. You file should end in .txt."
   ]
  },
  {
   "cell_type": "code",
   "execution_count": 14,
   "metadata": {},
   "outputs": [],
   "source": [
    "f = open(\"Data/en_short_text.txt\")\n",
    "data = f.read()"
   ]
  },
  {
   "cell_type": "markdown",
   "metadata": {},
   "source": [
    "If you can not open jupyter notebooks but are working in the online consule. Type in the following instead of the code above. Do not excute this code if you are successfully working in the jupyter notebook."
   ]
  },
  {
   "cell_type": "code",
   "execution_count": 13,
   "metadata": {},
   "outputs": [],
   "source": [
    "data = \"\"\" @@5108141 <h> Saturday , 17 November 2012 <p> Emerging from the fog , as it were . I always forget just how all-consuming the first throes of rehearsal for an opera can be . Especially if , as in this case , the lead role is not yet cast ( it 's a hellishly difficult sing , and the intended singer pulled out just before musical rehearsals began . He is a consummate professional , so he must have had very solid reasons , but that still leaves other colleagues ( luckily not me : the role I am covering is not so big ) a bit adrift in a piece which requires long dialogues with the lead ... Let 's just say that does n't lead to happy relaxation , on the whole . <p> And I also have to admit to having been nervous before the initial music call . I had n't sung for this music director before ; and no matter what anyone says , it FEELS like an audition when you sing for someone in a position of power for the first time . It would of course have helped to have had masses of @ @ @ @ @ @ @ @ @ @ had a more voice-friendly opera to start with , but hey , beggars ca n't be choosers , and at least ( despite having missed my very first solo entrance due to still ... STILL ! ! ! ... having to mentally translate numbers from German to English , rats rats RATS ! ! ) we 've got that bit over with and from now on it 's simply business . <p> The interesting bit is just HOW exhausted one feels during this process . The brain seems to focus itself very narrowly , and everything which does n't directly concern the learning of this particular music is ignored . ( I remember coming across a colleague , who shall remain unnamed , stealing a roll of loo paper from the theatre , in the throes of rehearsals ; the ( understandable ) rationale was that there really had n't been enough time to hit the supermarket ... ) . <p> However I must admit that despite all the stress and uncertainty , I really do love these first few rehearsals . A question of how your role fits in @ @ @ @ @ @ @ @ @ @ amusing - the court ladies get to sing some really rather beautiful chords before my character leaps in and spoils it all ! ) thing is rather marvellous . <h> No comments :\n",
    "\"\"\""
   ]
  },
  {
   "cell_type": "markdown",
   "metadata": {},
   "source": [
    "####  <font color=red>Your turn! (2 minutes) </font> \n",
    "<font color=red> **Beginner:** What type of variable is `data`? Do you notice anything strange about the text?</font>  "
   ]
  },
  {
   "cell_type": "code",
   "execution_count": 18,
   "metadata": {},
   "outputs": [
    {
     "name": "stdout",
     "output_type": "stream",
     "text": [
      "\n",
      "@@5108141 <h> Saturday , 17 November 2012 <p> Emerging from the fog , as it were . I always forget just how all-consuming the first throes of rehearsal for an opera can be . Especially if , as in this case , the lead role is not yet cast ( it 's a hellishly difficult sing , and the intended singer pulled out just before musical rehearsals began . He is a consummate professional , so he must have had very solid reasons , but that still leaves other colleagues ( luckily not me : the role I am covering is not so big ) a bit adrift in a piece which requires long dialogues with the lead ... Let 's just say that does n't lead to happy relaxation , on the whole . <p> And I also have to admit to having been nervous before the initial music call . I had n't sung for this music director before ; and no matter what anyone says , it FEELS like an audition when you sing for someone in a position of power for the first time . It would of course have helped to have had masses of @ @ @ @ @ @ @ @ @ @ had a more voice-friendly opera to start with , but hey , beggars ca n't be choosers , and at least ( despite having missed my very first solo entrance due to still ... STILL ! ! ! ... having to mentally translate numbers from German to English , rats rats RATS ! ! ) we 've got that bit over with and from now on it 's simply business . <p> The interesting bit is just HOW exhausted one feels during this process . The brain seems to focus itself very narrowly , and everything which does n't directly concern the learning of this particular music is ignored . ( I remember coming across a colleague , who shall remain unnamed , stealing a roll of loo paper from the theatre , in the throes of rehearsals ; the ( understandable ) rationale was that there really had n't been enough time to hit the supermarket ... ) . <p> However I must admit that despite all the stress and uncertainty , I really do love these first few rehearsals . A question of how your role fits in @ @ @ @ @ @ @ @ @ @ amusing - the court ladies get to sing some really rather beautiful chords before my character leaps in and spoils it all ! ) thing is rather marvellous . <h> No comments : <h> Post a Comment <h> About Me <p> I am an English opera singer trying occasionally to make sense of my life in Germany . Random influences from my past include : studying languages ( French and Russian ) at Cambridge ; drinking far too much vodka with Russians during said \" study \" ; nearly a year 's busking ; discovering my true voice later than most ; supporting the continuing discovery of my voice with various colourful \n",
      "@@5108241 <h> Thanksgiving drives to benefit the needy <p> The holidays can be a difficult time for some people , but many organizations are collecting food to ease the pain for some , with a few upcoming events likely to be the focus of some local poster printing . <p> The 4th annual Basket of Miracles Thanksgiving food drive , sponsored by Miracles for Kids , will deliver food baskets to 100 needy families whose critically ill children are being treated at CHOC Children 's Hospital . <p> Volunteers are needed to help deliver the food baskets from 9:00 am -- 1:00 pm on Tuesday , November 20 . Monetary donations are always accepted . <p> Also next week , celebrity TyRon Jackson will host a free Thanksgiving dinner from 12:00 noon -- 5:00 pm on Thursday , November 22 in Peppertree Park , 230 W. First Street , Tustin . The free meal will include turkey and all the trimmings for those in need . There will also be guest speakers and live entertainment . For more information , visit TyRon 's Facebook or Twitter page . <p> Moving into December , the hospital 's Holiday Drive will be @ @ @ @ @ @ @ @ @ @ of bread , meat , eggs , fruit , vegetables , dairy , toys , games , and books will be accepted . Volunteers are required to help assemble the baskets and gift bags . December 13 will be used to set up the event , assembly of the bags will take place over December 14 -- 15 , and delivery will commence on Monday , December 17 , with proceedings running from 9:00 am -- 2:00 pm on each day . <p> One-hundred and sixty Southern California families will be the recipients of the food and toys . To volunteer , or donate items \n",
      "@@5108341 <p> European researchers have published a study which analyses the health economics of increased dairy foods and related reduction in risk of osteoporotic fractures in the population aged over 50 . <p> The study was based on a new analytical model that links nutrition and fracture risk , and health economics . It was based on data from the Netherlands , France and Sweden , countries which have varying levels of dairy products intake in the population . <p> Study co-author Professor Ren Rizzoli , Professor of Medicine and Head of the Division of Bone Disease at the University Hospitals of Geneva , said , \" Despite the fact that the effects of foods on health are recognized , there are no accepted and proven methodologies to assess the health-economic impacts of foods on the general population . Although this model may be further refined , it does provide a straightforward and easy-to-use method to assess the health-economic impact of food products on health , well-being and costs . \" The publication ' Dairy foods and Osteoporosis : An example of Assessing the Health -- Economic Impact of Food Products ' has been published online in the scientific journal @ @ @ @ @ @ @ @ @ @ different types of foods ( including in certain fish and greens ) , however around 60 to 70% of daily calcium intake in Western Countries is derived from dairy products . In addition to calcium , dairy products also provide a large variety of essential nutrients such as minerals , vitamins and proteins that , along with vitamin D , are also beneficial to bone health . <p> Low dietary intake of calcium has been associated with decreased bone density and increased risk of osteoporosis , a disease where bone becomes less dense and prone to fracture . Fractures are a costly public health burden , resulting in increased mortality , disability , pain and loss of health-related quality of life . In terms of health-economic burden , hip fractures in particular result in huge expenditures for hospitalization , rehabilitation , and long-term nursing care . <p> The researchers calculated the number of disability-adjusted life years ( DALYS ) lost due to hip fractures associated with low nutritional calcium intake and the number of hip fractures that could potentially be prevented each year with intake of additional dairy products . @ @ @ @ @ @ @ @ @ @ fractures , followed by Sweden ( 455 ) and the Netherlands ( 132 ) . This represents a substantial health cost savings of approximately 129 million , 34 million and 6 million Euros in these countries , respectively . <p> \" Our study likely underestimates the potential cost savings of increased dietary calcium in that it relies on existing figures for the senior population and does not take into account the long-term benefits to the younger generation , \" said Rizzoli . <p> He added , \" Adequate nutritional intake and regular exercise during childhood and adolescence , both necessary for the development of peak bone mass , may contribute to bone strength \n",
      "@@5108441 <p> The current business model for business books is broken , Osterwalder said . There are too many books and too few readers . Every year , another 11,000 new business books pile on top the 250,000-space of competing titles . The average book sells only 250 copies per year . Worse , book sales are declining : a 12% drop from 2007 to 2009 . If Osterwalder wanted to create a book on business models that people would love to buy , he would need to innovate the business model for business book production and sales . <p> From the start , Osterwalder asked people what they hated about current business books . People said existing books were too fat with turgid prose but at the same time too light on substance . Second , people found the books impractical because they lacked useful \" Monday morning \" actions items . Finally , the books were too text-heavy , missing the richer , reinforcing learning experience of a text-and-graphics combination . <p> To address these problems , Osterwalder envisioned something more like a coffee-table book akin to architecture books , being simultaneously informative and beautiful . <p> Osterwalder @ @ @ @ @ @ @ @ @ @ to break the rules of traditional business books to publish his book . At the time , Osterwalder was an unknown author from Switzerland wanting to create a book with high production values , expensive color printing , and a very un-business-book approach . The only solution was self-publishing . <p> But , self-publishing would n't be easy because Osterwalder had neither the cash , book production resources ( editors , designers , etc. ) , marketing department , nor distribution assets of a publishing house . <p> To solve the problem , Osterwalder recruited peers to co-create the book . Ultimately , 470 people contributed to the book in a wide variety of ways . People joined Osterwalder for early access to the ideas , to be part of something bigger , and for the stimulating collaborative process of working on the topic . Not only did this community of contributors help make the book , but they were also its best sales force . <p> To raise money , Osterwalder offered advanced sales under a \" pay me now to reserve a copy \" philosophy . Demand for @ @ @ @ @ @ @ @ @ @ the price from $24 to $36 to $54 to $81 . And , just before publication , he offered a last-minute premium deal : for $250 , the buyer would be listed in the book as a contributor who helped make it happen . For distribution , Osterwalder ultimately chose Fulfillment by Amazon . <p> The book quickly became a bestseller in business and in the top 100 of all books selling on Amazon . Osterwalder 's success in self-publishing attracted the attention of Wiley and other traditional publishers , who would never have taken a risk on Osterwalder 's book . \" Once you 're successful , everyone wants in , \" Osterwalder said . After tough negotiations , he signed with Wiley . To date , over 200,000 copies have sold and the book has been translated into 22 languages . <p> Thank you , Katherine ! I thought Alex 's story was so inspiring , and he 's continuing to innovate and create a whole community around business model design by making the tools available for free under a Creative Commons license . It 's a wonderful @ @ @ @ @ @ @ @ @ @ : **40;4018;TOOLONG <p> I had not read this post yet and just got to do so today ( been heads down in execution for WBF . ) <p> I was not able to attend BIF7 and even though I was trying to catch the action via Twitter ... I missed this particular session . I happen to own Business Model Generation and love it ( bought it full retail price at Amazon.com -- one of only a handful of physical hardcover books I 've bought recently ... the rest are all Kindle eBooks . ) <p> Great to get all the \n",
      "@@5108541 <h> Papa John 's Health-Care Remarks a Missed Marketing Opportunity <h> Discussion of Costs Could Have Been an Honest Hero Moment <p> Papa John 's greatest innovation might be the dipping sauce , the best use of which is to do a high-calorie Lazarus number on its -- forgive me -- desultory crust . It 's an American story . When you get lemons , you make lemonade . And when you 're left with a shard of hard baked dough after gobbling though the cheese , sauce and toppings , you turn that crust into a fatty flavor wand of delight . <p> On Election Day , Papa John 's CEO John Schnatter got the equivalent of a stale crust . His man , Mitt Romney , lost and with him the hope of repealing Obamacare , bete noire of much of the food industry , from Applebees to Darden . But instead of dipping sauce , he applied a rank remoulade of threats , scaremongering and cultural tone-deafness . Warning of price hikes and scaling back workers ' hours , he said , \" That 's what you do , is you pass on costs . Unfortunately @ @ @ @ @ @ @ @ @ @ 're going to pay for this . \" <p> Well , then tell us , Mr. Schnatter . Oh wait , you already did . Back in the summer , you told us Obamacare will add $5 million to $8 million in expenses ( that 's less than 1% current operating expenses ) . And you said those costs would be passed on to consumers in form of a 10-to-14-cent price hike on pizzas . Check this Forbes.com article for a thorough look at the math . <p> So here 's the proposition as I understand it : We pay an extra dime and a few pennies per pizza so that your employees can see a doctor when they get sick . My response is : Deal ! <p> Maybe Mr. Schnatter , who 's been both praised and pilloried for his position , was on to something here . Suddenly Obamacare , a massive piece of legislation whose costs are so unclear and so large they 're difficult to grasp , was no longer an abstraction . It became a transaction -- a micro-transaction actually . Thought of that @ @ @ @ @ @ @ @ @ @ marketing the bill than President Obama ever did . <p> There might even be a big idea here . At this point , the need to be transparent in pricing is a given . Try to pull a fast one , and the internet will find you out . But what about giving real visibility into components of a price , pulling back the curtains so we can see what we 're actually paying for when we fork over our money ? This is n't just corporate social responsibility hooey . It 's a short leap from what 's become a real trend : talking about supply-chain issues in brand communications . Think about Chipotle 's \" Back to the Start , \" one of the most lauded and popular campaigns in recent memory -- and it 's all about where the burrito chain 's ingredients come from . Why not talk about what percentage of a customer dollar is going to the product vs. the workforce and so on ? <p> How might something like that go ? Just dress Mr. Schnatter up in that red Papa John 's @ @ @ @ @ @ @ @ @ @ the camera , and instead of having him ham it up with Peyton Manning or Jeff Gordon with some of the worst acting this side of \" The Wicker Man , \" hand him a script that says something meaningful . The message , which does n't have to include anything about liking Obamacare , can talk in frank terms about those expected costs . But rather than gripe about them , he 'll explain why those are being passed along and what they mean . <p> Done right , the CEO becomes a sort of hero , who 's doing right by his workforce . <p> Does n't this sound better \n",
      "@@5108641 <p> How would you like to use self hypnosis for personal development , weight loss , or to overcome the state of fear itself ? Many people around the world have changed their lives through the power of self hypnosis . From weight loss , to curing phobias , to increasing their self confidence , and more . how are they doing it ? <p> By learning the power of self hypnosis . That 's how . <p> But before you go out and buy the latest hypnosis course and spend quite possibly big bucks , it 's important to know what you are buying and what self hypnosis is . <p> What is Self Hypnosis ? <p> Self hypnosis is simply using hypnosis techniques for self improvement and/or self development . Although you can go out , buy hypnosis books , read , and jump from chapter to chapter picking out bits and pieces from each chapter to execute you will not achieve the results you would have if you followed a self hypnosis course . This is why a guided self hypnosis course is important in getting the results you really want . <p> Before you go @ @ @ @ @ @ @ @ @ @ to pick up a FREE 3 CD course on hypnosis . Simply visit this link . <p> Knowing What You Want <p> One of the primary focuses or topics in self hypnosis is simply knowing what you want . Knowing what you want and setting goals is as important as the food you eat . I wo n't go into detail here about goals , instead I 'll let you listen and learn from the self hypnosis course , but it is vital that you set goals and take action . In addition , I highly recommend you claim the free self hypnosis course before you go out and buy a course . What you get out of the free course might be exactly what you 're looking for . <p> The Human Brain <p> It is important to know that humans only use up to 10% of their brain power , although some people might be using a little more , it 's sill a big waste of brain power . Is it not ? So how do we access and and utilize the remaining 90% ? Well that @ @ @ @ @ @ @ @ @ @ and allow you to fully access your true potential . <p> About the Author <p> Mike is a researcher of the power of self hypnosis . Through a free self hypnosis course he \n",
      "@@5108741 <h> You Will Be a Lot More Successful With Women If You Do This <p> Who would n't want to figure out what they could do to have a little bit more success with women ? What would help you to become that guy who has dating success ? Well , in my opinion , deciding to put your best foot forward is definitely something that you can do that will give you a much better experience when it comes to dating . Usually , I do n't like to get into the traditional self help realm of advice , but this is one subject that I do feel passionately about . <p> There are times when I have been asked to help a guy figure out his personal life and one of the clues that I look for as far as what is really going on , is to see if there is a lack of effort on his part . That usually will tell a lot about what kind of results that he is going to get . Any guy can sit at home and complain about how hard it is to meet women if they are @ @ @ @ @ @ @ @ @ @ . <p> It takes a much different kind of a guy to realize that things are not going to change unless they do and they change their actions that they take as well . If you just decide that you are going to put your best foot forward and not slack around when it comes to taking care of your personal life , I am sure that you will start to see some exponential changes that are welcomed . <p> You can literally go from not meeting any women at all to meeting five in one night if you get out of the house , drive to a club and take the time to mingle with the crowd . Most guys wo n't do that , though . They 'd rather complain about it being so hard to meet someone and rationalize why it is okay that they do n't really take any action to get better results . <p> I know that it might sound a bit cliche , but if you want to be successful with women and have better dating experiences , you are going to have @ @ @ @ @ @ @ @ @ @ really not just a matter of changing your attitude or your mindset . The actions matter just as much . <p> How would you like to get more tips on how to become a success with women and change the way that your personal life is going ? One thing is certain , it 's not going to happen if you are living in the past and not ready to move on to a much better future for yourself . Your attitude does matter , but that actions that you take are really what is \n",
      "@@5108841 <p> I 'm an unabashed fan of Devin Faraci , and I do n't care who knows it . I think he has a really great prose style , and even when I do n't agree with him I always know how he came to his conclusions . That said , if you do n't know him socially he can come off as caustic and abrasive . Passionate people often are . <p> Last night , Devin challenged Joe Swanberg , the \" King of Mumblecore \" , to a very dry , reasoned debate on the quality of the genre . Oh , who am I kidding - the Fantastic Debates are never about the intelligentsia calmly discussing in a rational manner about their intellectual prowess . There 's insults , impassioned discusion , more insults , and then they beat the shit out of each other . Devin holds the strongly held opinion that mumblecore as a style of filmmaking is essentially worthless , and Swanberg , of course takes the opposite view . I admire Devin 's wit here , but I also think Swanberg raised some good points and spoke from the heart . <p> @ @ @ @ @ @ @ @ @ @ but the fighting was pretty decisive . Swanberg , to put it mildly , cleaned Devin 's fucking clock . <p> Personally , I can take or leave mumblecore , depending on how well each particular movie works . But judging from this fight , the decision has been taken out of our hands - mumblecore will be here to stay . <p> Hell , even the trailer for Vamps was kind of cool . I have no fucking idea what this article is about , nor do I care . Maybe the people bitching about the state of this site are actually onto something .. <p> Laws are just something old people and fat unfit douchebags made up so they would n't get killed by all the strong and powerful young people . <p> I 'm so sick of our society where no one can lay a hand on another without potentially going to jail for it . People deserve to get their ass kicked all the time , and if they did the world would be a lot better for it . <p> I really wish I lived @ @ @ @ @ @ @ @ @ @ stealing some of your shit , or banging your wife , you were heralded as a champion and an honorable man rather than getting shit on and thrown in jail . <p> Laws are just something old people and fat unfit douchebags made up so they would n't get killed by all the strong and powerful young people . I 'm so sick of our society where no one can lay a hand on another without potentially going to jail for it . People deserve to get their ass kicked all the time , and if they did the world would be a lot better for it . I really wish I lived in another era , where if you killed someone for stealing some of your shit , or banging your wife , you were heralded as a champion and an honorable man rather than getting shit on and thrown in jail . <p> I 've honestly never heard of Swanberg , but seeing him beat the shit out of Devin has certainly made my day . <p> I do n't care how good of a writer Devin is @ @ @ @ @ @ @ @ @ @ ) , he 's pretty much a professional troll at this point , not a film critic . And it 's about time someone put him in his place . <p> I 've honestly never heard of Swanberg , but seeing him beat the shit out of Devin has certainly made my day . I do n't care how good of a writer Devin is ( and honestly , he 's not really THAT good ) , he 's pretty much a professional troll at this point , not a film critic . And it 's about time someone put him in his place . <p> It 's just more cinema done , outside Holywood 's compartimentized system . Who knows where the next Kubrick might show up ? Perhaps there already is one doing his first steps in mumblecore . So why should anybody oppose it ? And what 's the deal with Faraci 's enemity of movies with more free form type of narratives ? Does he think that the only type of narrative that matters is where things happen by going A to B to C ? @ @ @ @ @ @ @ @ @ @ chose to see it that way . I mean , look at Bethoeven , he did n't give a fuck about the nobility who up to then used musicians and composers as their private employees , Bethoeven composed for himself , and look at what he did ! He was being self-indulgence , you could say , but he create masterpieces of world music . <p> I just do n't get this Faraci dude . What does he really want from movies ? <p> It 's just more cinema done , outside Holywood 's compartimentized system . Who knows where the next Kubrick might show up ? Perhaps there already is one doing his first steps in mumblecore . So why should anybody oppose it ? And what 's the deal with Faraci 's enemity of movies with more free form type of narratives ? Does he think that the only type of narrative that matters is where things happen by going A to B to C ? And self-indulgence ? Most art IS self-indulgent , if you chose to see it that way . I mean , look at @ @ @ @ @ @ @ @ @ @ nobility who up to then used musicians and composers as their private employees , Bethoeven composed for himself , and look at what he did ! He was being self-indulgence , you could say , but he create masterpieces of world music . I just do n't get this Faraci dude . What does he really want from movies ? <p> while a lot of current indie movies have great stories , there some times annoying to watch at moments because they will be set in modern times yet you will see 70 's clothing style , 70 's technology , and 70 's interior design . 90 's indie movies did n't have that . <p> while a lot of current indie movies have great stories , there some times annoying to watch at moments because they will be set in modern times yet you will see 70 's clothing style , 70 's technology , and 70 's interior design . 90 's indie movies did n't have that . <p> I 've been a fan of Devins a long time , so sue me . I think @ @ @ @ @ @ @ @ @ @ , yeah , he 's kind of a prick at times , but one I can tolerate , and I would say I do find myself agreeing with him more than I do disagreeing with him . <p> Mumblecore is a shit genre that is exactly as he describes it . I often refer to it as being indie excess crap . Basically , you take all that 's bad and those sort of true stereotypes about indie , wrap it up into a ball , and yeah , any asshole can take a camera and shoot things with it , but it takes a master craftsman to make something outstanding . <p> Yeah , anything with core at the end , should be something awesome , as Devin puts it . Mumblecore is not . It 's boring and pointless and no real story or structure to it . Narcissistic self indulgent crap , which may not nec always be a bad thing , but mumblecore is not a good example of such . It is pretty bland . <p> Now , you could say , and I tend @ @ @ @ @ @ @ @ @ @ core , Linklatter , Jarmusch , and Smith . Thing is , while their camerawork or direction might not be the greatest , and that 's not a putdown , their writing and storytelling is very good , and that 's good enough for me . I 'm not blaiming them for it , it was something inadvertant that happened , but it had an influence . Blaiming them for it is like blaiming Faith No More , an awesome band , for shit like rap-rock and nu-metal , two totally un-connected things . <p> Round 1 , Devin . <p> Swanberg just sounds like your typical indie nerd , trying to make his \" important personal work \" , out to be than it is . Really ? Age of technology that gives us a voice , but you use it to squash those . Oh man , I do n't know whether to laugh or roll my eyes at that one . Swanberg , and those who think like him , time to put on the big boy pants , grow a little thicker skin , and not @ @ @ @ @ @ @ @ @ @ basing your whole view/point/movement , and whether it suceeds or fails , on some critic ? Wow . That 's a load of week b.s if I ever heard it . <p> Here 's the thing too , and I hate judging movies and entertainment based on this cause it 's so superficial , however , it 's reality . If mumblecore were this groundbreaking revolution that those who identify as such types of filmmakers , was this big thing , it would be making more money and be all the buzz . But it 's not cause people tend to know crap when they see it . <p> But for the fight its self , now , I do like Devin and I 'm on his side on this , but uh , it makes him look like the stereotypical know it all nerd who can talk a big talk , but ca n't really say anything with his fists . But I think that can account for alot of people . <p> Also Swanberg , Uwe Boll , who some say is the worst director ever , did @ @ @ @ @ @ @ @ @ @ , took what his critics said WAY too personal , and fought them . Now , Boll surprisingly cleaned there clocks , and that 's not a congratulation . No , no , you just did something as low as Uwe Boll . How does it feel ? <p> I 've been a fan of Devins a long time , so sue me . I think he 's a very keen , observant and smart writer , yeah , he 's kind of a prick at times , but one I can tolerate , and I would say I do find myself agreeing with him more than I do disagreeing with him . Mumblecore is a shit genre that is exactly as he describes it . I often refer to it as being indie excess crap . Basically , you take all that 's bad and those sort of true stereotypes about indie , wrap it up into a ball , and yeah , any asshole can take a camera and shoot things with it , but it takes a master craftsman to make something outstanding . Yeah , anything @ @ @ @ @ @ @ @ @ @ , as Devin puts it . Mumblecore is not . It 's boring and pointless and no real story or structure to it . Narcissistic self indulgent crap , which may not nec always be a bad thing , but mumblecore is not a good example of such . It is pretty bland . Now , you could say , and I tend to agree , that there was this wave of pre-mumble core , Linklatter , Jarmusch , and Smith . Thing is , while their camerawork or direction might not be the greatest , and that 's not a putdown , their writing and storytelling is very good , and that 's good enough for me . I 'm not blaiming them for it , it was something inadvertant that happened , but it had an influence . Blaiming them for it is like blaiming Faith No More , an awesome band , for shit like rap-rock and nu-metal , two totally un-connected things . Round 1 , Devin . Swanberg just sounds like your typical indie nerd , trying to make his \" important personal work \" @ @ @ @ @ @ @ @ @ @ Age of technology that gives us a voice , but you use it to squash those . Oh man , I do n't know whether to laugh or roll my eyes at that one . Swanberg , and those who think like him , time to put on the big boy pants , grow a little thicker skin , and not worry so much what the critics say . You 're basing your whole view/point/movement , and whether it suceeds or fails , on some critic ? Wow . That 's a load of week b.s if I ever heard it . Here 's the thing too , and I hate judging movies and entertainment based on this cause it 's so superficial , however , it 's reality . If mumblecore were this groundbreaking revolution that those who identify as such types of filmmakers , was this big thing , it would be making more money and be all the buzz . But it 's not cause people tend to know crap when they see it . But for the fight its self , now , I do like @ @ @ @ @ @ @ @ @ @ but uh , it makes him look like the stereotypical know it all nerd who can talk a big talk , but ca n't really say anything with his fists . But I think that can account for alot of people . Also Swanberg , Uwe Boll , who some say is the worst director ever , did the same thing as you did a few years ago , took what his critics said WAY too personal , and fought them . Now , Boll surprisingly cleaned there clocks , and that 's not a congratulation . No , no , you just did something as low as Uwe Boll . How does it feel ? <p> Idk if i 'd nec say I thought it was better , but I did enjoy Terminator Salvation more than Avatar . Look , Avatar is Dances With Wolves set in space , just accept it . Even people who liked the movie have been able to accept that . <p> Idk if i 'd nec say I thought it was better , but I did enjoy Terminator Salvation more than Avatar . @ @ @ @ @ @ @ @ @ @ , just accept it . Even people who liked the movie have been able to accept that . <p> \" It 's just more cinema done , outside Holywood 's compartimentized system . Who knows where the next Kubrick might show up ? Perhaps there already is one doing his first steps in mumblecore . So why should anybody oppose it ? And what 's the deal with Faraci 's enemity of movies with more free form type of narratives ? Does he think that the only type of narrative that matters is where things happen by going A to B to C ? And self-indulgence ? Most art IS self-indulgent , if you chose to see it that way . I mean , look at Bethoeven , he did n't give a fuck about the nobility who up to then used musicians and composers as their private employees , Bethoeven composed for himself , and look at what he did ! He was being self-indulgence , you could say , but he create masterpieces of world music . <p> I just do n't get this Faraci dude . What @ @ @ @ @ @ @ @ @ @ , right there , you just summed up everything that 's wrong and shitty with mumblecore , and proved Devin and I right . Just cause it 's made outside of Hollywood , does n't mean shit . Even if it 's an Indie flick , you got ta have that special something . Indie/mumblecore flicks can be just as bad or shitty , for their own reasons , as much as Hollywood movies are . Devin does like alot of movies made outside of hollywood , if you actually read his articles , you 'd realize that . <p> Are you fucking serious ? You really think the next Kubrick will come from mumblecore ? Wow . Not only does that win for dumbest fucking thing I 've heard in a while , but I hope you never mention that outside of here , cause you will be severely laughed at and humiliated . You do n't write like seriously or professionally when it comes to this do you ? <p> Once again , if you actually read Devins writings , or anyones when it comes to this thing @ @ @ @ @ @ @ @ @ @ In fact , I think more people are in favor it . However , if you ca n't make it work , then just that . You ca n't make it work . <p> And while yes , some/most art may be self indulgent , different people have different likes , and one can sometimes only take so much , and what you like , someone else may see as shit . <p> \" It 's just more cinema done , outside Holywood 's compartimentized system . Who knows where the next Kubrick might show up ? Perhaps there already is one doing his first steps in mumblecore . So why should anybody oppose it ? And what 's the deal with Faraci 's enemity of movies with more free form type of narratives ? Does he think that the only type of narrative that matters is where things happen by going A to B to C ? And self-indulgence ? Most art IS self-indulgent , if you chose to see it that way . I mean , look at Bethoeven , he did n't give a fuck about the @ @ @ @ @ @ @ @ @ @ their private employees , Bethoeven composed for himself , and look at what he did ! He was being self-indulgence , you could say , but he create masterpieces of world music . I just do n't get this Faraci dude . What does he really want from movies ? \" See , right there , you just summed up everything that 's wrong and shitty with mumblecore , and proved Devin and I right . Just cause it 's made outside of Hollywood , does n't mean shit . Even if it 's an Indie flick , you got ta have that special something . Indie/mumblecore flicks can be just as bad or shitty , for their own reasons , as much as Hollywood movies are . Devin does like alot of movies made outside of hollywood , if you actually read his articles , you 'd realize that . Are you fucking serious ? You really think the next Kubrick will come from mumblecore ? Wow . Not only does that win for dumbest fucking thing I 've heard in a while , but I hope you never @ @ @ @ @ @ @ @ @ @ severely laughed at and humiliated . You do n't write like seriously or professionally when it comes to this do you ? Once again , if you actually read Devins writings , or anyones when it comes to this thing , no one is opposed to free form narratives . In fact , I think more people are in favor it . However , if you ca n't make it work , then just that . You ca n't make it work . And while yes , some/most art may be self indulgent , different people have different likes , and one can sometimes only take so much , and what you like , someone else may see as shit . You 're really comparing the mumblecore centric filmmakers and audiences to Behtoven ? Speaks for it 's self folks . <p> Anyone give me a rundown of what this genre is ? I 've seen it posed to the Duplass brother 's movies , but I thought those were fairly funny , low-key little dramedies ( Except for the horror one , Baghead . That movie SUCKED . ) @ @ @ @ @ @ @ @ @ @ , Who Lives at Home and Cyrus ) count as mumblecore or is it only low-budget , indie movies with the shaky-cam aesthetic ? <p> Anyone give me a rundown of what this genre is ? I 've seen it posed to the Duplass brother 's movies , but I thought those were fairly funny , low-key little dramedies ( Except for the horror one , Baghead . That movie SUCKED . ) Do the last Duplass movies that hit theaters ( Jeff , Who Lives at Home and Cyrus ) count as mumblecore or is it only low-budget , indie movies with the shaky-cam aesthetic ? <p> I like a lot of Devin 's writing and Badass Digest is head and shoulder above the slop that gets reported here , but he can definently be a prick sometimes , and even as somewhat of an admirer of the dude , I found some pleasure in seeing him get busted up a bit . <p> I like a lot of Devin 's writing and Badass Digest is head and shoulder above the slop that gets reported here , but he @ @ @ @ @ @ @ @ @ @ somewhat of an admirer of the dude , I found some pleasure in seeing him get busted up a bit . <p> I do n't know who that fat guy was but I hope he writes better than he fights . Maybe Demis Roussous should stick to singing , rather than boxing ! And I echo ginger muppet - I have NO idea who any of these douchebags are , what mumblycore is ( is that even a thing ? ! ? ) or what they are talking about . <p> Basically , I really dislike Faraci and I 've yet to figure out how a rude windbag from New York who lives in L.A. fits the vibe of the Alamo and/or Austin . I do n't believe Devin is half as smart as he obviously thinks he is , but I 'm not really part of the hipster bloggerati where foul language and puffed up opinion are considered good , original writing . <p> Neither do I really understand the whole idea of editor free rants of thousands of words slung on any topic ( ala Film Crit Hulk @ @ @ @ @ @ @ @ @ @ got me banned from BAD . I also do n't completely understand how a blogger can steal the trademarked name and voice of a licensed Marvel Comics character to apply their shtick when it 's the very easily recognized name and voice that 's generating an instant readership to begin with . <p> None of that really matters , because generally speaking , it 's obvious that Film Crit Hulk is a smart guy who loves film and is n't a bad writer . I just had an opinion about a certain piece that I did n't like , and I was a bit of a wise ass about it . Devin , who is a wise ass about almost EVERYTHING , and throws blustery insults at everyone who disagrees with him , ca n't take the same being thrown in his direction in his \" kingdom . \" So he bans at will . <p> So I really enjoyed seeing him getting his ass kicked . If the mood strikes me , and this asshole comes to BNAT this year , You may get to see this scenerio all @ @ @ @ @ @ @ @ @ @ and I 've yet to figure out how a rude windbag from New York who lives in L.A. fits the vibe of the Alamo and/or Austin . I do n't believe Devin is half as smart as he obviously thinks he is , but I 'm not really part of the hipster bloggerati where foul language and puffed up opinion are considered good , original writing . Neither do I really understand the whole idea of editor free rants of thousands of words slung on any topic ( ala Film Crit Hulk ) , which was the basis of the comment that got me banned from BAD . I also do n't completely understand how a blogger can steal the trademarked name and voice of a licensed Marvel Comics character to apply their shtick when it 's the very easily recognized name and voice that 's generating an instant readership to begin with . None of that really matters , because generally speaking , it 's obvious that Film Crit Hulk is a smart guy who loves film and is n't a bad writer . I just had an opinion @ @ @ @ @ @ @ @ @ @ and I was a bit of a wise ass about it . Devin , who is a wise ass about almost EVERYTHING , and throws blustery insults at everyone who disagrees with him , ca n't take the same being thrown in his direction in his \" kingdom . \" So he bans at will . So I really enjoyed seeing him getting his ass kicked . If the mood strikes me , and this asshole comes to BNAT this year , You may get to see this scenerio all over again . <p> The term does n't make sense . But I 've only seen three movies on the list . I liked all of them . Cold Weather and Cyrus both kicked ass . Jeff Who Lives at Home was alright . Entertaining but contrived . So I have no idea what Devin is whining about . <p> I still want to see someone debate him on his Batman Begins review , then kick his ass . None of his criticisms of that movie were valid . They were all either vague and undeveloped , or outright false @ @ @ @ @ @ @ @ @ @ were explained by the movie to anyone who was paying attention . <p> The term does n't make sense . But I 've only seen three movies on the list . I liked all of them . Cold Weather and Cyrus both kicked ass . Jeff Who Lives at Home was alright . Entertaining but contrived . So I have no idea what Devin is whining about . I still want to see someone debate him on his Batman Begins review , then kick his ass . None of his criticisms of that movie were valid . They were all either vague and undeveloped , or outright false . He invented plot holes that were n't there and were explained by the movie to anyone who was paying attention . <p> This Faraci guy , who I assume is one of those web critics who manged to gain a small following , needs to accept that he simply does n't like the so-called genre . Obsession with these type of things tends to stem from jealousy . He took a stab at Kevin Smith . Say what you will , @ @ @ @ @ @ @ @ @ @ . Take their life savings , make a movie on their own terms , and have people embrace it . It 's impossible for me to not have complete respect for that . <p> All art is valid . And it can/has/will continue to co-exist . This Faraci guy , who I assume is one of those web critics who manged to gain a small following , needs to accept that he simply does n't like the so-called genre . Obsession with these type of things tends to stem from jealousy . He took a stab at Kevin Smith . Say what you will , Smith did what everyone on the Internet wants to do . Take their life savings , make a movie on their own terms , and have people embrace it . It 's impossible for me to not have complete respect for that . As far as I can tell , Faraci has done nothing like that . <p> almost any no talent gen y ass hole with a camera a credit card and some attractive friends can call him/herself a film maker these days and @ @ @ @ @ @ @ @ @ @ - the real trick is , as in everything else that involves selling one 's self , who you know and who knows those you know - mumblecore indeed - the very name smacks of bull shit <p> almost any no talent gen y ass hole with a camera a credit card and some attractive friends can call him/herself a film maker these days and get a deal - the proof of this is everywhere - the real trick is , as in everything else that involves selling one 's self , who you know and who knows those you know - mumblecore indeed - the very name smacks of bull shit <p> I can not stand Faraci . He is the biggest contrarian in film criticism since Armond White . I truly believe that he trashes films to get traffic to his site . If his taste is truly legitimate then he is one of the most ungrateful movie-goers of all time . <p> For all of his faults as a writer , at least Harry has enthusiasm . I love his unbridled sense of joy about film . @ @ @ @ @ @ @ @ @ @ is the walking , talking embodiment of what is wrong with online film culture . He spews out negativity and then tries to battle ( in his forums ) anyone who has a differing opinion ( or bans them ) . It is juvenile , but I 'm glad someone punched him in his face . <p> I can not stand Faraci . He is the biggest contrarian in film criticism since Armond White . I truly believe that he trashes films to get traffic to his site . If his taste is truly legitimate then he is one of the most ungrateful movie-goers of all time . For all of his faults as a writer , at least Harry has enthusiasm . I love his unbridled sense of joy about film . For Faraci the cup is always half empty . He is the walking , talking embodiment of what is wrong with online film culture . He spews out negativity and then tries to battle ( in his forums ) anyone who has a differing opinion ( or bans them ) . It is juvenile , but I @ @ @ @ @ @ @ @ @ @ I do n't know where the next Kubrick will came from . But he might come from mumblecore . That 's the point . The point being , the next genious filmmkaer of the stature of Kubrick will come from where you will least expect , as this things usually happen . So to bash a whole movement just because you feel antipathy for some of it 's filmmakers or some of their movies is not cool . <p> And if you read what o wrote , i was was not comparing mulblecore to Bethoven , i was making a clear coment in that great art ( which sometimes also gets very popular to the masses ) always come from people who have high artistic ambitions and who act quite self-indulgently . It 's the nature of the thing . The thing about art is that you do not need to like the artist to like his creations . Read the bio of most artists and it reads like the shopping list of the worst assholes that ever lived . But they create sublime works which we all profit from @ @ @ @ @ @ @ @ @ @ anywhere . He might come from mumblecore . If you hate that prospect , that 's your problem to deal . Me , i 'll just keep watch and wait . <p> I do n't know where the next Kubrick will came from . But he might come from mumblecore . That 's the point . The point being , the next genious filmmkaer of the stature of Kubrick will come from where you will least expect , as this things usually happen . So to bash a whole movement just because you feel antipathy for some of it 's filmmakers or some of their movies is not cool . And if you read what o wrote , i was was not comparing mulblecore to Bethoven , i was making a clear coment in that great art ( which sometimes also gets very popular to the masses ) always come from people who have high artistic ambitions and who act quite self-indulgently . It 's the nature of the thing . The thing about art is that you do not need to like the artist to like his creations . @ @ @ @ @ @ @ @ @ @ the shopping list of the worst assholes that ever lived . But they create sublime works which we all profit from . So , the next Kubrick might come from anywhere . He might come from mumblecore . If you hate that prospect , that 's your problem to deal . Me , i 'll just keep watch and wait . <p> I did n't know what the hell it was until I watched this video which is somebody using clips of the films and listing characteristics . http : //www.youtu.be.com/watch ? v=9hiNC7uK ... <p> I have a few serious issues with this even being a genre . <p> Natural lighting : is never natural , looks like a soap opera or a porno . The fact is , yellow light bulbs work with our eyes , not on film . This is just lazy . <p> Seemingly no color correction . Again , lazy . If you force me to watch it , at least but a little color correction so the digital looks a little better and I do n't want to puke from all the yellow . @ @ @ @ @ @ @ @ @ @ in Black and White , which sidesteps the issue of color correction entirely ... until you realize it is the laziest incamera black and white you have ever seen . What 's wrong with a little sharpness , mates ? See Harmony Korine for effective use of \" the video look \" . <p> Shaky cam : All well and good . This is usually something that happens by accident anyways ; for me , and my pvc pipe shoulder mount , it happens often . This does not change the fact that if I had more money I would get a shoulder mount that works . It is difficult to maintain a stable shot . Shots that shake can add to the realism , or heighten action like in Crank . When they are willy nilly all over the place in a dialogue scene that is not intense , I say get a fucking tripod . The clips I saw on that video looked like the cameraman drank a lot of coffee , did not preplan his shot ( hence the zooming and unzooming ) and then the editor @ @ @ @ @ @ @ @ @ @ Von Trier for how to use a shaky camera while seeming like you know what you are doing . <p> Which brings me to : Spontaneous cutting , also known as lazy editing , also known as we were too stupid to film cutaways , or naturally end a scene or even worse we are attempting jump cuts and just failing and covering our tracks by making up this godforsakenly STUPID genre . See Godard . Look up \" jump cut \" . <p> The main reason why I hate it ? Because I make films , I know what is easy , what the easy ways out are . I know what my first films looked like and how I had to learn and learn to not make the mistakes that these films try to pass off as art . I know what lazy looks like because I 've done it a thousand times . Mumblecore is now retitled in my mind \" Learnin ' Movies \" . <p> I did n't know what the hell it was until I watched this video which is somebody using clips of @ @ @ @ @ @ @ @ @ @ v=9hiNC7uK ...\n"
     ]
    }
   ],
   "source": [
    "print(data)"
   ]
  },
  {
   "cell_type": "markdown",
   "metadata": {},
   "source": [
    "<font color=dark red> **Intermediate:** Practice reading in another file using the `.readlines()` function. What does this do? What type of object is it? Hint: Don't forget to first open the file.</font> \n",
    " "
   ]
  },
  {
   "cell_type": "code",
   "execution_count": null,
   "metadata": {},
   "outputs": [],
   "source": []
  },
  {
   "cell_type": "markdown",
   "metadata": {},
   "source": [
    "## 2. Cleaning Data"
   ]
  },
  {
   "cell_type": "markdown",
   "metadata": {},
   "source": [
    "After reading in a data file, it is important look at the data to see if there are any encoding issues or other textual isses that need to be addressed. The English sample text above contains random insertions of the symbol \"@\" and remaing htlm code \"\\<\\h\\>\\\". This is something we need to remove before we process the data. \n",
    "We will use a new function, `replace` to sustitute the symbols we wish to remove with nothing. "
   ]
  },
  {
   "cell_type": "code",
   "execution_count": 19,
   "metadata": {},
   "outputs": [
    {
     "data": {
      "text/plain": [
       "'\\n5108141 <h> Saturday , 17 November 2012 <p> Emerging from the fog , as it were . I always forget just how all-consuming the first throes of rehearsal for an opera can be . Especially if , as in this case , the lead role is not yet cast ( it \\'s a hellishly difficult sing , and the intended singer pulled out just before musical rehearsals began . He is a consummate professional , so he must have had very solid reasons , but that still leaves other colleagues ( luckily not me : the role I am covering is not so big ) a bit adrift in a piece which requires long dialogues with the lead ... Let \\'s just say that does n\\'t lead to happy relaxation , on the whole . <p> And I also have to admit to having been nervous before the initial music call . I had n\\'t sung for this music director before ; and no matter what anyone says , it FEELS like an audition when you sing for someone in a position of power for the first time . It would of course have helped to have had masses of           had a more voice-friendly opera to start with , but hey , beggars ca n\\'t be choosers , and at least ( despite having missed my very first solo entrance due to still ... STILL ! ! ! ... having to mentally translate numbers from German to English , rats rats RATS ! ! ) we \\'ve got that bit over with and from now on it \\'s simply business . <p> The interesting bit is just HOW exhausted one feels during this process . The brain seems to focus itself very narrowly , and everything which does n\\'t directly concern the learning of this particular music is ignored . ( I remember coming across a colleague , who shall remain unnamed , stealing a roll of loo paper from the theatre , in the throes of rehearsals ; the ( understandable ) rationale was that there really had n\\'t been enough time to hit the supermarket ... ) . <p> However I must admit that despite all the stress and uncertainty , I really do love these first few rehearsals . A question of how your role fits in           amusing - the court ladies get to sing some really rather beautiful chords before my character leaps in and spoils it all ! ) thing is rather marvellous . <h> No comments : <h> Post a Comment <h> About Me <p> I am an English opera singer trying occasionally to make sense of my life in Germany . Random influences from my past include : studying languages ( French and Russian ) at Cambridge ; drinking far too much vodka with Russians during said \" study \" ; nearly a year \\'s busking ; discovering my true voice later than most ; supporting the continuing discovery of my voice with various colourful \\n5108241 <h> Thanksgiving drives to benefit the needy <p> The holidays can be a difficult time for some people , but many organizations are collecting food to ease the pain for some , with a few upcoming events likely to be the focus of some local poster printing . <p> The 4th annual Basket of Miracles Thanksgiving food drive , sponsored by Miracles for Kids , will deliver food baskets to 100 needy families whose critically ill children are being treated at CHOC Children \\'s Hospital . <p> Volunteers are needed to help deliver the food baskets from 9:00 am -- 1:00 pm on Tuesday , November 20 . Monetary donations are always accepted . <p> Also next week , celebrity TyRon Jackson will host a free Thanksgiving dinner from 12:00 noon -- 5:00 pm on Thursday , November 22 in Peppertree Park , 230 W. First Street , Tustin . The free meal will include turkey and all the trimmings for those in need . There will also be guest speakers and live entertainment . For more information , visit TyRon \\'s Facebook or Twitter page . <p> Moving into December , the hospital \\'s Holiday Drive will be           of bread , meat , eggs , fruit , vegetables , dairy , toys , games , and books will be accepted . Volunteers are required to help assemble the baskets and gift bags . December 13 will be used to set up the event , assembly of the bags will take place over December 14 -- 15 , and delivery will commence on Monday , December 17 , with proceedings running from 9:00 am -- 2:00 pm on each day . <p> One-hundred and sixty Southern California families will be the recipients of the food and toys . To volunteer , or donate items \\n5108341 <p> European researchers have published a study which analyses the health economics of increased dairy foods and related reduction in risk of osteoporotic fractures in the population aged over 50 . <p> The study was based on a new analytical model that links nutrition and fracture risk , and health economics . It was based on data from the Netherlands , France and Sweden , countries which have varying levels of dairy products intake in the population . <p> Study co-author Professor Ren Rizzoli , Professor of Medicine and Head of the Division of Bone Disease at the University Hospitals of Geneva , said , \" Despite the fact that the effects of foods on health are recognized , there are no accepted and proven methodologies to assess the health-economic impacts of foods on the general population . Although this model may be further refined , it does provide a straightforward and easy-to-use method to assess the health-economic impact of food products on health , well-being and costs . \" The publication \\' Dairy foods and Osteoporosis : An example of Assessing the Health -- Economic Impact of Food Products \\' has been published online in the scientific journal           different types of foods ( including in certain fish and greens ) , however around 60 to 70% of daily calcium intake in Western Countries is derived from dairy products . In addition to calcium , dairy products also provide a large variety of essential nutrients such as minerals , vitamins and proteins that , along with vitamin D , are also beneficial to bone health . <p> Low dietary intake of calcium has been associated with decreased bone density and increased risk of osteoporosis , a disease where bone becomes less dense and prone to fracture . Fractures are a costly public health burden , resulting in increased mortality , disability , pain and loss of health-related quality of life . In terms of health-economic burden , hip fractures in particular result in huge expenditures for hospitalization , rehabilitation , and long-term nursing care . <p> The researchers calculated the number of disability-adjusted life years ( DALYS ) lost due to hip fractures associated with low nutritional calcium intake and the number of hip fractures that could potentially be prevented each year with intake of additional dairy products .           fractures , followed by Sweden ( 455 ) and the Netherlands ( 132 ) . This represents a substantial health cost savings of approximately 129 million , 34 million and 6 million Euros in these countries , respectively . <p> \" Our study likely underestimates the potential cost savings of increased dietary calcium in that it relies on existing figures for the senior population and does not take into account the long-term benefits to the younger generation , \" said Rizzoli . <p> He added , \" Adequate nutritional intake and regular exercise during childhood and adolescence , both necessary for the development of peak bone mass , may contribute to bone strength \\n5108441 <p> The current business model for business books is broken , Osterwalder said . There are too many books and too few readers . Every year , another 11,000 new business books pile on top the 250,000-space of competing titles . The average book sells only 250 copies per year . Worse , book sales are declining : a 12% drop from 2007 to 2009 . If Osterwalder wanted to create a book on business models that people would love to buy , he would need to innovate the business model for business book production and sales . <p> From the start , Osterwalder asked people what they hated about current business books . People said existing books were too fat with turgid prose but at the same time too light on substance . Second , people found the books impractical because they lacked useful \" Monday morning \" actions items . Finally , the books were too text-heavy , missing the richer , reinforcing learning experience of a text-and-graphics combination . <p> To address these problems , Osterwalder envisioned something more like a coffee-table book akin to architecture books , being simultaneously informative and beautiful . <p> Osterwalder           to break the rules of traditional business books to publish his book . At the time , Osterwalder was an unknown author from Switzerland wanting to create a book with high production values , expensive color printing , and a very un-business-book approach . The only solution was self-publishing . <p> But , self-publishing would n\\'t be easy because Osterwalder had neither the cash , book production resources ( editors , designers , etc. ) , marketing department , nor distribution assets of a publishing house . <p> To solve the problem , Osterwalder recruited peers to co-create the book . Ultimately , 470 people contributed to the book in a wide variety of ways . People joined Osterwalder for early access to the ideas , to be part of something bigger , and for the stimulating collaborative process of working on the topic . Not only did this community of contributors help make the book , but they were also its best sales force . <p> To raise money , Osterwalder offered advanced sales under a \" pay me now to reserve a copy \" philosophy . Demand for           the price from $24 to $36 to $54 to $81 . And , just before publication , he offered a last-minute premium deal : for $250 , the buyer would be listed in the book as a contributor who helped make it happen . For distribution , Osterwalder ultimately chose Fulfillment by Amazon . <p> The book quickly became a bestseller in business and in the top 100 of all books selling on Amazon . Osterwalder \\'s success in self-publishing attracted the attention of Wiley and other traditional publishers , who would never have taken a risk on Osterwalder \\'s book . \" Once you \\'re successful , everyone wants in , \" Osterwalder said . After tough negotiations , he signed with Wiley . To date , over 200,000 copies have sold and the book has been translated into 22 languages . <p> Thank you , Katherine ! I thought Alex \\'s story was so inspiring , and he \\'s continuing to innovate and create a whole community around business model design by making the tools available for free under a Creative Commons license . It \\'s a wonderful           : **40;4018;TOOLONG <p> I had not read this post yet and just got to do so today ( been heads down in execution for WBF . ) <p> I was not able to attend BIF7 and even though I was trying to catch the action via Twitter ... I missed this particular session . I happen to own Business Model Generation and love it ( bought it full retail price at Amazon.com -- one of only a handful of physical hardcover books I \\'ve bought recently ... the rest are all Kindle eBooks . ) <p> Great to get all the \\n5108541 <h> Papa John \\'s Health-Care Remarks a Missed Marketing Opportunity <h> Discussion of Costs Could Have Been an Honest Hero Moment <p> Papa John \\'s greatest innovation might be the dipping sauce , the best use of which is to do a high-calorie Lazarus number on its -- forgive me -- desultory crust . It \\'s an American story . When you get lemons , you make lemonade . And when you \\'re left with a shard of hard baked dough after gobbling though the cheese , sauce and toppings , you turn that crust into a fatty flavor wand of delight . <p> On Election Day , Papa John \\'s CEO John Schnatter got the equivalent of a stale crust . His man , Mitt Romney , lost and with him the hope of repealing Obamacare , bete noire of much of the food industry , from Applebees to Darden . But instead of dipping sauce , he applied a rank remoulade of threats , scaremongering and cultural tone-deafness . Warning of price hikes and scaling back workers \\' hours , he said , \" That \\'s what you do , is you pass on costs . Unfortunately           \\'re going to pay for this . \" <p> Well , then tell us , Mr. Schnatter . Oh wait , you already did . Back in the summer , you told us Obamacare will add $5 million to $8 million in expenses ( that \\'s less than 1% current operating expenses ) . And you said those costs would be passed on to consumers in form of a 10-to-14-cent price hike on pizzas . Check this Forbes.com article for a thorough look at the math . <p> So here \\'s the proposition as I understand it : We pay an extra dime and a few pennies per pizza so that your employees can see a doctor when they get sick . My response is : Deal ! <p> Maybe Mr. Schnatter , who \\'s been both praised and pilloried for his position , was on to something here . Suddenly Obamacare , a massive piece of legislation whose costs are so unclear and so large they \\'re difficult to grasp , was no longer an abstraction . It became a transaction -- a micro-transaction actually . Thought of that           marketing the bill than President Obama ever did . <p> There might even be a big idea here . At this point , the need to be transparent in pricing is a given . Try to pull a fast one , and the internet will find you out . But what about giving real visibility into components of a price , pulling back the curtains so we can see what we \\'re actually paying for when we fork over our money ? This is n\\'t just corporate social responsibility hooey . It \\'s a short leap from what \\'s become a real trend : talking about supply-chain issues in brand communications . Think about Chipotle \\'s \" Back to the Start , \" one of the most lauded and popular campaigns in recent memory -- and it \\'s all about where the burrito chain \\'s ingredients come from . Why not talk about what percentage of a customer dollar is going to the product vs. the workforce and so on ? <p> How might something like that go ? Just dress Mr. Schnatter up in that red Papa John \\'s           the camera , and instead of having him ham it up with Peyton Manning or Jeff Gordon with some of the worst acting this side of \" The Wicker Man , \" hand him a script that says something meaningful . The message , which does n\\'t have to include anything about liking Obamacare , can talk in frank terms about those expected costs . But rather than gripe about them , he \\'ll explain why those are being passed along and what they mean . <p> Done right , the CEO becomes a sort of hero , who \\'s doing right by his workforce . <p> Does n\\'t this sound better \\n5108641 <p> How would you like to use self hypnosis for personal development , weight loss , or to overcome the state of fear itself ? Many people around the world have changed their lives through the power of self hypnosis . From weight loss , to curing phobias , to increasing their self confidence , and more . how are they doing it ? <p> By learning the power of self hypnosis . That \\'s how . <p> But before you go out and buy the latest hypnosis course and spend quite possibly big bucks , it \\'s important to know what you are buying and what self hypnosis is . <p> What is Self Hypnosis ? <p> Self hypnosis is simply using hypnosis techniques for self improvement and/or self development . Although you can go out , buy hypnosis books , read , and jump from chapter to chapter picking out bits and pieces from each chapter to execute you will not achieve the results you would have if you followed a self hypnosis course . This is why a guided self hypnosis course is important in getting the results you really want . <p> Before you go           to pick up a FREE 3 CD course on hypnosis . Simply visit this link . <p> Knowing What You Want <p> One of the primary focuses or topics in self hypnosis is simply knowing what you want . Knowing what you want and setting goals is as important as the food you eat . I wo n\\'t go into detail here about goals , instead I \\'ll let you listen and learn from the self hypnosis course , but it is vital that you set goals and take action . In addition , I highly recommend you claim the free self hypnosis course before you go out and buy a course . What you get out of the free course might be exactly what you \\'re looking for . <p> The Human Brain <p> It is important to know that humans only use up to 10% of their brain power , although some people might be using a little more , it \\'s sill a big waste of brain power . Is it not ? So how do we access and and utilize the remaining 90% ? Well that           and allow you to fully access your true potential . <p> About the Author <p> Mike is a researcher of the power of self hypnosis . Through a free self hypnosis course he \\n5108741 <h> You Will Be a Lot More Successful With Women If You Do This <p> Who would n\\'t want to figure out what they could do to have a little bit more success with women ? What would help you to become that guy who has dating success ? Well , in my opinion , deciding to put your best foot forward is definitely something that you can do that will give you a much better experience when it comes to dating . Usually , I do n\\'t like to get into the traditional self help realm of advice , but this is one subject that I do feel passionately about . <p> There are times when I have been asked to help a guy figure out his personal life and one of the clues that I look for as far as what is really going on , is to see if there is a lack of effort on his part . That usually will tell a lot about what kind of results that he is going to get . Any guy can sit at home and complain about how hard it is to meet women if they are           . <p> It takes a much different kind of a guy to realize that things are not going to change unless they do and they change their actions that they take as well . If you just decide that you are going to put your best foot forward and not slack around when it comes to taking care of your personal life , I am sure that you will start to see some exponential changes that are welcomed . <p> You can literally go from not meeting any women at all to meeting five in one night if you get out of the house , drive to a club and take the time to mingle with the crowd . Most guys wo n\\'t do that , though . They \\'d rather complain about it being so hard to meet someone and rationalize why it is okay that they do n\\'t really take any action to get better results . <p> I know that it might sound a bit cliche , but if you want to be successful with women and have better dating experiences , you are going to have           really not just a matter of changing your attitude or your mindset . The actions matter just as much . <p> How would you like to get more tips on how to become a success with women and change the way that your personal life is going ? One thing is certain , it \\'s not going to happen if you are living in the past and not ready to move on to a much better future for yourself . Your attitude does matter , but that actions that you take are really what is \\n5108841 <p> I \\'m an unabashed fan of Devin Faraci , and I do n\\'t care who knows it . I think he has a really great prose style , and even when I do n\\'t agree with him I always know how he came to his conclusions . That said , if you do n\\'t know him socially he can come off as caustic and abrasive . Passionate people often are . <p> Last night , Devin challenged Joe Swanberg , the \" King of Mumblecore \" , to a very dry , reasoned debate on the quality of the genre . Oh , who am I kidding - the Fantastic Debates are never about the intelligentsia calmly discussing in a rational manner about their intellectual prowess . There \\'s insults , impassioned discusion , more insults , and then they beat the shit out of each other . Devin holds the strongly held opinion that mumblecore as a style of filmmaking is essentially worthless , and Swanberg , of course takes the opposite view . I admire Devin \\'s wit here , but I also think Swanberg raised some good points and spoke from the heart . <p>           but the fighting was pretty decisive . Swanberg , to put it mildly , cleaned Devin \\'s fucking clock . <p> Personally , I can take or leave mumblecore , depending on how well each particular movie works . But judging from this fight , the decision has been taken out of our hands - mumblecore will be here to stay . <p> Hell , even the trailer for Vamps was kind of cool . I have no fucking idea what this article is about , nor do I care . Maybe the people bitching about the state of this site are actually onto something .. <p> Laws are just something old people and fat unfit douchebags made up so they would n\\'t get killed by all the strong and powerful young people . <p> I \\'m so sick of our society where no one can lay a hand on another without potentially going to jail for it . People deserve to get their ass kicked all the time , and if they did the world would be a lot better for it . <p> I really wish I lived           stealing some of your shit , or banging your wife , you were heralded as a champion and an honorable man rather than getting shit on and thrown in jail . <p> Laws are just something old people and fat unfit douchebags made up so they would n\\'t get killed by all the strong and powerful young people . I \\'m so sick of our society where no one can lay a hand on another without potentially going to jail for it . People deserve to get their ass kicked all the time , and if they did the world would be a lot better for it . I really wish I lived in another era , where if you killed someone for stealing some of your shit , or banging your wife , you were heralded as a champion and an honorable man rather than getting shit on and thrown in jail . <p> I \\'ve honestly never heard of Swanberg , but seeing him beat the shit out of Devin has certainly made my day . <p> I do n\\'t care how good of a writer Devin is           ) , he \\'s pretty much a professional troll at this point , not a film critic . And it \\'s about time someone put him in his place . <p> I \\'ve honestly never heard of Swanberg , but seeing him beat the shit out of Devin has certainly made my day . I do n\\'t care how good of a writer Devin is ( and honestly , he \\'s not really THAT good ) , he \\'s pretty much a professional troll at this point , not a film critic . And it \\'s about time someone put him in his place . <p> It \\'s just more cinema done , outside Holywood \\'s compartimentized system . Who knows where the next Kubrick might show up ? Perhaps there already is one doing his first steps in mumblecore . So why should anybody oppose it ? And what \\'s the deal with Faraci \\'s enemity of movies with more free form type of narratives ? Does he think that the only type of narrative that matters is where things happen by going A to B to C ?           chose to see it that way . I mean , look at Bethoeven , he did n\\'t give a fuck about the nobility who up to then used musicians and composers as their private employees , Bethoeven composed for himself , and look at what he did ! He was being self-indulgence , you could say , but he create masterpieces of world music . <p> I just do n\\'t get this Faraci dude . What does he really want from movies ? <p> It \\'s just more cinema done , outside Holywood \\'s compartimentized system . Who knows where the next Kubrick might show up ? Perhaps there already is one doing his first steps in mumblecore . So why should anybody oppose it ? And what \\'s the deal with Faraci \\'s enemity of movies with more free form type of narratives ? Does he think that the only type of narrative that matters is where things happen by going A to B to C ? And self-indulgence ? Most art IS self-indulgent , if you chose to see it that way . I mean , look at           nobility who up to then used musicians and composers as their private employees , Bethoeven composed for himself , and look at what he did ! He was being self-indulgence , you could say , but he create masterpieces of world music . I just do n\\'t get this Faraci dude . What does he really want from movies ? <p> while a lot of current indie movies have great stories , there some times annoying to watch at moments because they will be set in modern times yet you will see 70 \\'s clothing style , 70 \\'s technology , and 70 \\'s interior design . 90 \\'s indie movies did n\\'t have that . <p> while a lot of current indie movies have great stories , there some times annoying to watch at moments because they will be set in modern times yet you will see 70 \\'s clothing style , 70 \\'s technology , and 70 \\'s interior design . 90 \\'s indie movies did n\\'t have that . <p> I \\'ve been a fan of Devins a long time , so sue me . I think           , yeah , he \\'s kind of a prick at times , but one I can tolerate , and I would say I do find myself agreeing with him more than I do disagreeing with him . <p> Mumblecore is a shit genre that is exactly as he describes it . I often refer to it as being indie excess crap . Basically , you take all that \\'s bad and those sort of true stereotypes about indie , wrap it up into a ball , and yeah , any asshole can take a camera and shoot things with it , but it takes a master craftsman to make something outstanding . <p> Yeah , anything with core at the end , should be something awesome , as Devin puts it . Mumblecore is not . It \\'s boring and pointless and no real story or structure to it . Narcissistic self indulgent crap , which may not nec always be a bad thing , but mumblecore is not a good example of such . It is pretty bland . <p> Now , you could say , and I tend           core , Linklatter , Jarmusch , and Smith . Thing is , while their camerawork or direction might not be the greatest , and that \\'s not a putdown , their writing and storytelling is very good , and that \\'s good enough for me . I \\'m not blaiming them for it , it was something inadvertant that happened , but it had an influence . Blaiming them for it is like blaiming Faith No More , an awesome band , for shit like rap-rock and nu-metal , two totally un-connected things . <p> Round 1 , Devin . <p> Swanberg just sounds like your typical indie nerd , trying to make his \" important personal work \" , out to be than it is . Really ? Age of technology that gives us a voice , but you use it to squash those . Oh man , I do n\\'t know whether to laugh or roll my eyes at that one . Swanberg , and those who think like him , time to put on the big boy pants , grow a little thicker skin , and not           basing your whole view/point/movement , and whether it suceeds or fails , on some critic ? Wow . That \\'s a load of week b.s if I ever heard it . <p> Here \\'s the thing too , and I hate judging movies and entertainment based on this cause it \\'s so superficial , however , it \\'s reality . If mumblecore were this groundbreaking revolution that those who identify as such types of filmmakers , was this big thing , it would be making more money and be all the buzz . But it \\'s not cause people tend to know crap when they see it . <p> But for the fight its self , now , I do like Devin and I \\'m on his side on this , but uh , it makes him look like the stereotypical know it all nerd who can talk a big talk , but ca n\\'t really say anything with his fists . But I think that can account for alot of people . <p> Also Swanberg , Uwe Boll , who some say is the worst director ever , did           , took what his critics said WAY too personal , and fought them . Now , Boll surprisingly cleaned there clocks , and that \\'s not a congratulation . No , no , you just did something as low as Uwe Boll . How does it feel ? <p> I \\'ve been a fan of Devins a long time , so sue me . I think he \\'s a very keen , observant and smart writer , yeah , he \\'s kind of a prick at times , but one I can tolerate , and I would say I do find myself agreeing with him more than I do disagreeing with him . Mumblecore is a shit genre that is exactly as he describes it . I often refer to it as being indie excess crap . Basically , you take all that \\'s bad and those sort of true stereotypes about indie , wrap it up into a ball , and yeah , any asshole can take a camera and shoot things with it , but it takes a master craftsman to make something outstanding . Yeah , anything           , as Devin puts it . Mumblecore is not . It \\'s boring and pointless and no real story or structure to it . Narcissistic self indulgent crap , which may not nec always be a bad thing , but mumblecore is not a good example of such . It is pretty bland . Now , you could say , and I tend to agree , that there was this wave of pre-mumble core , Linklatter , Jarmusch , and Smith . Thing is , while their camerawork or direction might not be the greatest , and that \\'s not a putdown , their writing and storytelling is very good , and that \\'s good enough for me . I \\'m not blaiming them for it , it was something inadvertant that happened , but it had an influence . Blaiming them for it is like blaiming Faith No More , an awesome band , for shit like rap-rock and nu-metal , two totally un-connected things . Round 1 , Devin . Swanberg just sounds like your typical indie nerd , trying to make his \" important personal work \"           Age of technology that gives us a voice , but you use it to squash those . Oh man , I do n\\'t know whether to laugh or roll my eyes at that one . Swanberg , and those who think like him , time to put on the big boy pants , grow a little thicker skin , and not worry so much what the critics say . You \\'re basing your whole view/point/movement , and whether it suceeds or fails , on some critic ? Wow . That \\'s a load of week b.s if I ever heard it . Here \\'s the thing too , and I hate judging movies and entertainment based on this cause it \\'s so superficial , however , it \\'s reality . If mumblecore were this groundbreaking revolution that those who identify as such types of filmmakers , was this big thing , it would be making more money and be all the buzz . But it \\'s not cause people tend to know crap when they see it . But for the fight its self , now , I do like           but uh , it makes him look like the stereotypical know it all nerd who can talk a big talk , but ca n\\'t really say anything with his fists . But I think that can account for alot of people . Also Swanberg , Uwe Boll , who some say is the worst director ever , did the same thing as you did a few years ago , took what his critics said WAY too personal , and fought them . Now , Boll surprisingly cleaned there clocks , and that \\'s not a congratulation . No , no , you just did something as low as Uwe Boll . How does it feel ? <p> Idk if i \\'d nec say I thought it was better , but I did enjoy Terminator Salvation more than Avatar . Look , Avatar is Dances With Wolves set in space , just accept it . Even people who liked the movie have been able to accept that . <p> Idk if i \\'d nec say I thought it was better , but I did enjoy Terminator Salvation more than Avatar .           , just accept it . Even people who liked the movie have been able to accept that . <p> \" It \\'s just more cinema done , outside Holywood \\'s compartimentized system . Who knows where the next Kubrick might show up ? Perhaps there already is one doing his first steps in mumblecore . So why should anybody oppose it ? And what \\'s the deal with Faraci \\'s enemity of movies with more free form type of narratives ? Does he think that the only type of narrative that matters is where things happen by going A to B to C ? And self-indulgence ? Most art IS self-indulgent , if you chose to see it that way . I mean , look at Bethoeven , he did n\\'t give a fuck about the nobility who up to then used musicians and composers as their private employees , Bethoeven composed for himself , and look at what he did ! He was being self-indulgence , you could say , but he create masterpieces of world music . <p> I just do n\\'t get this Faraci dude . What           , right there , you just summed up everything that \\'s wrong and shitty with mumblecore , and proved Devin and I right . Just cause it \\'s made outside of Hollywood , does n\\'t mean shit . Even if it \\'s an Indie flick , you got ta have that special something . Indie/mumblecore flicks can be just as bad or shitty , for their own reasons , as much as Hollywood movies are . Devin does like alot of movies made outside of hollywood , if you actually read his articles , you \\'d realize that . <p> Are you fucking serious ? You really think the next Kubrick will come from mumblecore ? Wow . Not only does that win for dumbest fucking thing I \\'ve heard in a while , but I hope you never mention that outside of here , cause you will be severely laughed at and humiliated . You do n\\'t write like seriously or professionally when it comes to this do you ? <p> Once again , if you actually read Devins writings , or anyones when it comes to this thing           In fact , I think more people are in favor it . However , if you ca n\\'t make it work , then just that . You ca n\\'t make it work . <p> And while yes , some/most art may be self indulgent , different people have different likes , and one can sometimes only take so much , and what you like , someone else may see as shit . <p> \" It \\'s just more cinema done , outside Holywood \\'s compartimentized system . Who knows where the next Kubrick might show up ? Perhaps there already is one doing his first steps in mumblecore . So why should anybody oppose it ? And what \\'s the deal with Faraci \\'s enemity of movies with more free form type of narratives ? Does he think that the only type of narrative that matters is where things happen by going A to B to C ? And self-indulgence ? Most art IS self-indulgent , if you chose to see it that way . I mean , look at Bethoeven , he did n\\'t give a fuck about the           their private employees , Bethoeven composed for himself , and look at what he did ! He was being self-indulgence , you could say , but he create masterpieces of world music . I just do n\\'t get this Faraci dude . What does he really want from movies ? \" See , right there , you just summed up everything that \\'s wrong and shitty with mumblecore , and proved Devin and I right . Just cause it \\'s made outside of Hollywood , does n\\'t mean shit . Even if it \\'s an Indie flick , you got ta have that special something . Indie/mumblecore flicks can be just as bad or shitty , for their own reasons , as much as Hollywood movies are . Devin does like alot of movies made outside of hollywood , if you actually read his articles , you \\'d realize that . Are you fucking serious ? You really think the next Kubrick will come from mumblecore ? Wow . Not only does that win for dumbest fucking thing I \\'ve heard in a while , but I hope you never           severely laughed at and humiliated . You do n\\'t write like seriously or professionally when it comes to this do you ? Once again , if you actually read Devins writings , or anyones when it comes to this thing , no one is opposed to free form narratives . In fact , I think more people are in favor it . However , if you ca n\\'t make it work , then just that . You ca n\\'t make it work . And while yes , some/most art may be self indulgent , different people have different likes , and one can sometimes only take so much , and what you like , someone else may see as shit . You \\'re really comparing the mumblecore centric filmmakers and audiences to Behtoven ? Speaks for it \\'s self folks . <p> Anyone give me a rundown of what this genre is ? I \\'ve seen it posed to the Duplass brother \\'s movies , but I thought those were fairly funny , low-key little dramedies ( Except for the horror one , Baghead . That movie SUCKED . )           , Who Lives at Home and Cyrus ) count as mumblecore or is it only low-budget , indie movies with the shaky-cam aesthetic ? <p> Anyone give me a rundown of what this genre is ? I \\'ve seen it posed to the Duplass brother \\'s movies , but I thought those were fairly funny , low-key little dramedies ( Except for the horror one , Baghead . That movie SUCKED . ) Do the last Duplass movies that hit theaters ( Jeff , Who Lives at Home and Cyrus ) count as mumblecore or is it only low-budget , indie movies with the shaky-cam aesthetic ? <p> I like a lot of Devin \\'s writing and Badass Digest is head and shoulder above the slop that gets reported here , but he can definently be a prick sometimes , and even as somewhat of an admirer of the dude , I found some pleasure in seeing him get busted up a bit . <p> I like a lot of Devin \\'s writing and Badass Digest is head and shoulder above the slop that gets reported here , but he           somewhat of an admirer of the dude , I found some pleasure in seeing him get busted up a bit . <p> I do n\\'t know who that fat guy was but I hope he writes better than he fights . Maybe Demis Roussous should stick to singing , rather than boxing ! And I echo ginger muppet - I have NO idea who any of these douchebags are , what mumblycore is ( is that even a thing ? ! ? ) or what they are talking about . <p> Basically , I really dislike Faraci and I \\'ve yet to figure out how a rude windbag from New York who lives in L.A. fits the vibe of the Alamo and/or Austin . I do n\\'t believe Devin is half as smart as he obviously thinks he is , but I \\'m not really part of the hipster bloggerati where foul language and puffed up opinion are considered good , original writing . <p> Neither do I really understand the whole idea of editor free rants of thousands of words slung on any topic ( ala Film Crit Hulk           got me banned from BAD . I also do n\\'t completely understand how a blogger can steal the trademarked name and voice of a licensed Marvel Comics character to apply their shtick when it \\'s the very easily recognized name and voice that \\'s generating an instant readership to begin with . <p> None of that really matters , because generally speaking , it \\'s obvious that Film Crit Hulk is a smart guy who loves film and is n\\'t a bad writer . I just had an opinion about a certain piece that I did n\\'t like , and I was a bit of a wise ass about it . Devin , who is a wise ass about almost EVERYTHING , and throws blustery insults at everyone who disagrees with him , ca n\\'t take the same being thrown in his direction in his \" kingdom . \" So he bans at will . <p> So I really enjoyed seeing him getting his ass kicked . If the mood strikes me , and this asshole comes to BNAT this year , You may get to see this scenerio all           and I \\'ve yet to figure out how a rude windbag from New York who lives in L.A. fits the vibe of the Alamo and/or Austin . I do n\\'t believe Devin is half as smart as he obviously thinks he is , but I \\'m not really part of the hipster bloggerati where foul language and puffed up opinion are considered good , original writing . Neither do I really understand the whole idea of editor free rants of thousands of words slung on any topic ( ala Film Crit Hulk ) , which was the basis of the comment that got me banned from BAD . I also do n\\'t completely understand how a blogger can steal the trademarked name and voice of a licensed Marvel Comics character to apply their shtick when it \\'s the very easily recognized name and voice that \\'s generating an instant readership to begin with . None of that really matters , because generally speaking , it \\'s obvious that Film Crit Hulk is a smart guy who loves film and is n\\'t a bad writer . I just had an opinion           and I was a bit of a wise ass about it . Devin , who is a wise ass about almost EVERYTHING , and throws blustery insults at everyone who disagrees with him , ca n\\'t take the same being thrown in his direction in his \" kingdom . \" So he bans at will . So I really enjoyed seeing him getting his ass kicked . If the mood strikes me , and this asshole comes to BNAT this year , You may get to see this scenerio all over again . <p> The term does n\\'t make sense . But I \\'ve only seen three movies on the list . I liked all of them . Cold Weather and Cyrus both kicked ass . Jeff Who Lives at Home was alright . Entertaining but contrived . So I have no idea what Devin is whining about . <p> I still want to see someone debate him on his Batman Begins review , then kick his ass . None of his criticisms of that movie were valid . They were all either vague and undeveloped , or outright false           were explained by the movie to anyone who was paying attention . <p> The term does n\\'t make sense . But I \\'ve only seen three movies on the list . I liked all of them . Cold Weather and Cyrus both kicked ass . Jeff Who Lives at Home was alright . Entertaining but contrived . So I have no idea what Devin is whining about . I still want to see someone debate him on his Batman Begins review , then kick his ass . None of his criticisms of that movie were valid . They were all either vague and undeveloped , or outright false . He invented plot holes that were n\\'t there and were explained by the movie to anyone who was paying attention . <p> This Faraci guy , who I assume is one of those web critics who manged to gain a small following , needs to accept that he simply does n\\'t like the so-called genre . Obsession with these type of things tends to stem from jealousy . He took a stab at Kevin Smith . Say what you will ,           . Take their life savings , make a movie on their own terms , and have people embrace it . It \\'s impossible for me to not have complete respect for that . <p> All art is valid . And it can/has/will continue to co-exist . This Faraci guy , who I assume is one of those web critics who manged to gain a small following , needs to accept that he simply does n\\'t like the so-called genre . Obsession with these type of things tends to stem from jealousy . He took a stab at Kevin Smith . Say what you will , Smith did what everyone on the Internet wants to do . Take their life savings , make a movie on their own terms , and have people embrace it . It \\'s impossible for me to not have complete respect for that . As far as I can tell , Faraci has done nothing like that . <p> almost any no talent gen y ass hole with a camera a credit card and some attractive friends can call him/herself a film maker these days and           - the real trick is , as in everything else that involves selling one \\'s self , who you know and who knows those you know - mumblecore indeed - the very name smacks of bull shit <p> almost any no talent gen y ass hole with a camera a credit card and some attractive friends can call him/herself a film maker these days and get a deal - the proof of this is everywhere - the real trick is , as in everything else that involves selling one \\'s self , who you know and who knows those you know - mumblecore indeed - the very name smacks of bull shit <p> I can not stand Faraci . He is the biggest contrarian in film criticism since Armond White . I truly believe that he trashes films to get traffic to his site . If his taste is truly legitimate then he is one of the most ungrateful movie-goers of all time . <p> For all of his faults as a writer , at least Harry has enthusiasm . I love his unbridled sense of joy about film .           is the walking , talking embodiment of what is wrong with online film culture . He spews out negativity and then tries to battle ( in his forums ) anyone who has a differing opinion ( or bans them ) . It is juvenile , but I \\'m glad someone punched him in his face . <p> I can not stand Faraci . He is the biggest contrarian in film criticism since Armond White . I truly believe that he trashes films to get traffic to his site . If his taste is truly legitimate then he is one of the most ungrateful movie-goers of all time . For all of his faults as a writer , at least Harry has enthusiasm . I love his unbridled sense of joy about film . For Faraci the cup is always half empty . He is the walking , talking embodiment of what is wrong with online film culture . He spews out negativity and then tries to battle ( in his forums ) anyone who has a differing opinion ( or bans them ) . It is juvenile , but I           I do n\\'t know where the next Kubrick will came from . But he might come from mumblecore . That \\'s the point . The point being , the next genious filmmkaer of the stature of Kubrick will come from where you will least expect , as this things usually happen . So to bash a whole movement just because you feel antipathy for some of it \\'s filmmakers or some of their movies is not cool . <p> And if you read what o wrote , i was was not comparing mulblecore to Bethoven , i was making a clear coment in that great art ( which sometimes also gets very popular to the masses ) always come from people who have high artistic ambitions and who act quite self-indulgently . It \\'s the nature of the thing . The thing about art is that you do not need to like the artist to like his creations . Read the bio of most artists and it reads like the shopping list of the worst assholes that ever lived . But they create sublime works which we all profit from           anywhere . He might come from mumblecore . If you hate that prospect , that \\'s your problem to deal . Me , i \\'ll just keep watch and wait . <p> I do n\\'t know where the next Kubrick will came from . But he might come from mumblecore . That \\'s the point . The point being , the next genious filmmkaer of the stature of Kubrick will come from where you will least expect , as this things usually happen . So to bash a whole movement just because you feel antipathy for some of it \\'s filmmakers or some of their movies is not cool . And if you read what o wrote , i was was not comparing mulblecore to Bethoven , i was making a clear coment in that great art ( which sometimes also gets very popular to the masses ) always come from people who have high artistic ambitions and who act quite self-indulgently . It \\'s the nature of the thing . The thing about art is that you do not need to like the artist to like his creations .           the shopping list of the worst assholes that ever lived . But they create sublime works which we all profit from . So , the next Kubrick might come from anywhere . He might come from mumblecore . If you hate that prospect , that \\'s your problem to deal . Me , i \\'ll just keep watch and wait . <p> I did n\\'t know what the hell it was until I watched this video which is somebody using clips of the films and listing characteristics . http : //www.youtu.be.com/watch ? v=9hiNC7uK ... <p> I have a few serious issues with this even being a genre . <p> Natural lighting : is never natural , looks like a soap opera or a porno . The fact is , yellow light bulbs work with our eyes , not on film . This is just lazy . <p> Seemingly no color correction . Again , lazy . If you force me to watch it , at least but a little color correction so the digital looks a little better and I do n\\'t want to puke from all the yellow .           in Black and White , which sidesteps the issue of color correction entirely ... until you realize it is the laziest incamera black and white you have ever seen . What \\'s wrong with a little sharpness , mates ? See Harmony Korine for effective use of \" the video look \" . <p> Shaky cam : All well and good . This is usually something that happens by accident anyways ; for me , and my pvc pipe shoulder mount , it happens often . This does not change the fact that if I had more money I would get a shoulder mount that works . It is difficult to maintain a stable shot . Shots that shake can add to the realism , or heighten action like in Crank . When they are willy nilly all over the place in a dialogue scene that is not intense , I say get a fucking tripod . The clips I saw on that video looked like the cameraman drank a lot of coffee , did not preplan his shot ( hence the zooming and unzooming ) and then the editor           Von Trier for how to use a shaky camera while seeming like you know what you are doing . <p> Which brings me to : Spontaneous cutting , also known as lazy editing , also known as we were too stupid to film cutaways , or naturally end a scene or even worse we are attempting jump cuts and just failing and covering our tracks by making up this godforsakenly STUPID genre . See Godard . Look up \" jump cut \" . <p> The main reason why I hate it ? Because I make films , I know what is easy , what the easy ways out are . I know what my first films looked like and how I had to learn and learn to not make the mistakes that these films try to pass off as art . I know what lazy looks like because I \\'ve done it a thousand times . Mumblecore is now retitled in my mind \" Learnin \\' Movies \" . <p> I did n\\'t know what the hell it was until I watched this video which is somebody using clips of           v=9hiNC7uK ...'"
      ]
     },
     "execution_count": 19,
     "metadata": {},
     "output_type": "execute_result"
    }
   ],
   "source": [
    "data_clean = data.replace(\"@\", \"\")  # str.replace(old, new)"
   ]
  },
  {
   "cell_type": "markdown",
   "metadata": {},
   "source": [
    "####  <font color=red>Your turn! (4 minutes) </font> \n",
    "<font color=red> **Beginner**: Did this solve the problem completely? If not, how might you fix it? What other elements might you want to remove? \n",
    "Practice using the `.replace` function on other string objects. </font>  "
   ]
  },
  {
   "cell_type": "code",
   "execution_count": null,
   "metadata": {},
   "outputs": [],
   "source": []
  },
  {
   "cell_type": "markdown",
   "metadata": {},
   "source": [
    "<font color= dark red> **Advanced:** What is we also wanted to remove the numbers that follow @@? We can use a new function, `re.sub` from the `re` package to use [regular expressions](https://www.w3schools.com/python/python_regex.asp). First we need to import the package using the `import` function. \n",
    "    \n",
    "What regular expression is needed to identify the sequences @@124 @@1124, etc.? </font>  "
   ]
  },
  {
   "cell_type": "code",
   "execution_count": null,
   "metadata": {},
   "outputs": [],
   "source": [
    "import re\n",
    "data_clean = re.sub(\"@ \", \"\", data) #remove all @"
   ]
  },
  {
   "cell_type": "markdown",
   "metadata": {},
   "source": [
    "## 3. Annotating Data\n",
    "We will use the Spacy package to create annotated linguistic data. If you have not used this package before, you will first need to install it via the console. You only need to do this once on a given computer. \n",
    "\n",
    "`conda install -c conda-forge spacy`\n",
    "`python -m spacy download en_core_web_sm\n",
    "python -m spacy download pt_core_news_sm\n",
    "python -m spacy download es_core_news_sm`"
   ]
  },
  {
   "cell_type": "markdown",
   "metadata": {},
   "source": [
    "Import the Spacy module and create an object for each language you will use, Spanish, English, etc. "
   ]
  },
  {
   "cell_type": "code",
   "execution_count": null,
   "metadata": {},
   "outputs": [],
   "source": [
    "import spacy\n",
    "nlp_en = spacy.load(\"en_core_web_sm\")\n",
    "nlp_sp = spacy.load(\"es_core_news_sm\")"
   ]
  },
  {
   "cell_type": "markdown",
   "metadata": {},
   "source": [
    "Use the `nlp_sp` function to create a Spacy Object from the data. Which variable should we use? `data` or `data_clean`"
   ]
  },
  {
   "cell_type": "code",
   "execution_count": null,
   "metadata": {},
   "outputs": [],
   "source": [
    "#data_spacy = nlp_sp(data)\n",
    "data_spacy = nlp_sp(data_clean)\n",
    "type(data_spacy)\n",
    "print(data_spacy)"
   ]
  },
  {
   "cell_type": "markdown",
   "metadata": {},
   "source": [
    "### Tokenization\n",
    "Let's look at how the data_spacy object divides a text into sentences and tokens. But first we need to learn about loops"
   ]
  },
  {
   "cell_type": "markdown",
   "metadata": {},
   "source": [
    "#### Loops\n",
    "If we want to look at every element of a list and perform a repeated task, we use a loop.  \n",
    "\n",
    "The general structure is:\n",
    "```\n",
    "for <element> in <list>:\n",
    "    <do something>\n",
    "    ...\n",
    "```\n",
    "This `for`-loop tells Python to take each element from a `list`, call it `element`, and then do the things that follow to it. Note that the words **`for`** and **`in`** are reserved words, meaning that you should not use them as a variable name. The colon at the end of the line is important part of the syntax and the following indent. It tells Python that everything that comes afterwards is what you want to do with each element."
   ]
  },
  {
   "cell_type": "code",
   "execution_count": null,
   "metadata": {},
   "outputs": [],
   "source": [
    "fruits = [\"apples\", \"bananas\", \"pears\"]\n",
    "\n",
    "for item in fruits:\n",
    "    print(item)"
   ]
  },
  {
   "cell_type": "code",
   "execution_count": null,
   "metadata": {},
   "outputs": [],
   "source": [
    "cap_fruits = []\n",
    "for item in fruits:\n",
    "    cap_item = item.capitalize()\n",
    "    cap_fruits.append(cap_item)"
   ]
  },
  {
   "cell_type": "markdown",
   "metadata": {},
   "source": [
    "####  <font color=red>Your turn! (4 minutes) </font> \n",
    "<font color=red> **Beginner:** Create a loop that takes each element, deletes the 's' and prints the result. Play around with the `.upper()` and `.swapcase()` methods with the loop to see what they do </font>  "
   ]
  },
  {
   "cell_type": "code",
   "execution_count": null,
   "metadata": {},
   "outputs": [],
   "source": []
  },
  {
   "cell_type": "markdown",
   "metadata": {},
   "source": [
    "<font color= dark red> **Intermediate:** Make a new list of integers and another empty list. Create a loop that adds 5 to each element, adds the result to the new list. </font>  "
   ]
  },
  {
   "cell_type": "markdown",
   "metadata": {},
   "source": [
    "Let's go back to tokenization. The data_spacy object is like a list in that you can loop over it to access each token."
   ]
  },
  {
   "cell_type": "code",
   "execution_count": null,
   "metadata": {},
   "outputs": [],
   "source": [
    "# at the word level\n",
    "for token in data_spacy: \n",
    "    print(token.text)"
   ]
  },
  {
   "cell_type": "code",
   "execution_count": null,
   "metadata": {},
   "outputs": [],
   "source": [
    "for index, token in enumerate(data_spacy):\n",
    "    print(index, token.text)"
   ]
  },
  {
   "cell_type": "code",
   "execution_count": null,
   "metadata": {},
   "outputs": [],
   "source": [
    "# at the sentence level\n",
    "for index, sent in enumerate(data_spacy.sents): # Loops\n",
    "    print(index, sent.text)\n",
    "    \n",
    "#[sent.text for sent in data_spacy.sents] # List Comprehension - ADVANCED\n",
    "\n",
    "len(data_spacy) # number of tokens in the text"
   ]
  },
  {
   "cell_type": "markdown",
   "metadata": {},
   "source": [
    "### POS Tags\n",
    "Spacy has two types of POS tags. They can be accessed for each token via attributes.\n",
    "* POS: The simple [UPOS](https://universaldependencies.org/docs/u/pos/) part-of-speech tag.\n",
    "* Tag: The detailed part-of-speech tag."
   ]
  },
  {
   "cell_type": "code",
   "execution_count": null,
   "metadata": {},
   "outputs": [],
   "source": [
    "for index, token in enumerate(data_spacy): # Loop\n",
    "    print(index, token.text, token.pos_, token.tag_)"
   ]
  },
  {
   "cell_type": "markdown",
   "metadata": {},
   "source": [
    "#### Filtering data\n",
    "\"If\" statements can be a useful tool within loops to filter data. The general Python syntax for a simple if statement is. \n",
    "`if condition :\n",
    "    indentedStatementBlock`\n",
    "    \n",
    "`If` statements many utilize a variety of logical conditions, such as:\n",
    "* Equals: a == b\n",
    "* Not Equals: a != b\n",
    "* Less than: a < b\n",
    "* Less than or equal to: a <= b\n",
    "* Greater than: a > b\n",
    "* Greater than or equal to: a >= b"
   ]
  },
  {
   "cell_type": "code",
   "execution_count": 1,
   "metadata": {},
   "outputs": [
    {
     "name": "stdout",
     "output_type": "stream",
     "text": [
      "b is greater than a\n"
     ]
    }
   ],
   "source": [
    "a = 33\n",
    "b = 200\n",
    "if b > a:\n",
    "  print(\"b is greater than a\")"
   ]
  },
  {
   "cell_type": "markdown",
   "metadata": {},
   "source": [
    "We can now use an `if` statement within a `for` loop to identify all the verbs within our text."
   ]
  },
  {
   "cell_type": "code",
   "execution_count": null,
   "metadata": {},
   "outputs": [],
   "source": [
    "for token in data_spacy:\n",
    "    if token.pos_ == \"VERB\":\n",
    "        print(token.text)"
   ]
  },
  {
   "cell_type": "markdown",
   "metadata": {},
   "source": [
    "####  <font color=red>Your turn! (4 minutes) </font> \n",
    "<font color=red> **Beginner:** Create an `if` statement, using another logical condition. Try testing both integers and string objects.  </font>  "
   ]
  },
  {
   "cell_type": "code",
   "execution_count": null,
   "metadata": {},
   "outputs": [],
   "source": []
  },
  {
   "cell_type": "markdown",
   "metadata": {},
   "source": [
    "<font color=red> **Advanced:** Create a `for` loop with an  `if` statement to identify all the nouns in our text. Can you write a line of code to figure out how many nouns there are total?  </font>  "
   ]
  },
  {
   "cell_type": "markdown",
   "metadata": {},
   "source": [
    "### Named Entities"
   ]
  },
  {
   "cell_type": "code",
   "execution_count": null,
   "metadata": {},
   "outputs": [],
   "source": [
    "for token in data_spacy: # Loop\n",
    "    print(token.text, token.ent_iob_)\n"
   ]
  },
  {
   "cell_type": "code",
   "execution_count": null,
   "metadata": {},
   "outputs": [],
   "source": [
    "for ent in data_spacy.ents:\n",
    "    print(ent.text, ent.label_)"
   ]
  },
  {
   "cell_type": "markdown",
   "metadata": {},
   "source": [
    "### Other Annotations"
   ]
  },
  {
   "cell_type": "code",
   "execution_count": null,
   "metadata": {},
   "outputs": [],
   "source": [
    "[(token, token.is_stop) for token in data_spacy] # Stop words\n",
    "[(token, token.lemma_) for token in data_spacy] # Lemmas\n",
    "[(token, token.dep_) for token in data_spacy] # dependencies"
   ]
  },
  {
   "cell_type": "code",
   "execution_count": null,
   "metadata": {},
   "outputs": [],
   "source": [
    "# Analyze syntax\n",
    "[chunk.text for chunk in data_spacy.noun_chunks])"
   ]
  },
  {
   "cell_type": "code",
   "execution_count": null,
   "metadata": {},
   "outputs": [],
   "source": [
    "from spacy import displacy\n",
    "doc = nlp_en(\"This is a sentence.\")\n",
    "displacy.serve(doc, style=\"dep\")"
   ]
  },
  {
   "cell_type": "markdown",
   "metadata": {},
   "source": [
    "####  <font color=red>Your turn! (6 minutes) </font> \n",
    "<font color=red> **Beginner:** Read in a new document. Explore the various tags by looping over the data. Can you view various tags at once? </font>\n",
    "\n"
   ]
  },
  {
   "cell_type": "code",
   "execution_count": null,
   "metadata": {},
   "outputs": [],
   "source": []
  },
  {
   "cell_type": "code",
   "execution_count": null,
   "metadata": {},
   "outputs": [],
   "source": []
  },
  {
   "cell_type": "markdown",
   "metadata": {},
   "source": [
    "## 4. Creating a dataframe\n",
    "After exploring the annotation levels available in Spacy, we can create a dataframe that contains the information we are interested in. We will use the `pandas` package to create a dataframe and then output of dataframe into a csv file that can be read into R for statistical analysis.First we will import the `pandas` package using the `import` function."
   ]
  },
  {
   "cell_type": "code",
   "execution_count": null,
   "metadata": {},
   "outputs": [],
   "source": [
    "import pandas as pd\n",
    "\n",
    "df = pd.DataFrame()\n",
    "df['Token'] = [token.text for token in data_spacy]\n",
    "df['POS'] = [token.pos_ for token in data_spacy]\n",
    "df['NE'] = [token.ent_iob_ for token in data_spacy]\n",
    "df['Lemma'] = [token.lemma_ for token in data_spacy]\n",
    "df['Tag'] = [token.tag_ for token in data_spacy]\n",
    "\n",
    "df\n"
   ]
  },
  {
   "cell_type": "markdown",
   "metadata": {},
   "source": [
    "#### <font color=red>Your turn!</font> \n",
    "\n",
    "<font color=red>Create a dataframe with a column for POS, NE, and Lemma</font> "
   ]
  },
  {
   "cell_type": "code",
   "execution_count": null,
   "metadata": {},
   "outputs": [],
   "source": []
  },
  {
   "cell_type": "markdown",
   "metadata": {},
   "source": [
    "<font color=dark red> **Advanced:** Create a dataframe only of the nouns appearing in the text. Have a column for lemma, NE and _is_stop annotations. Can you create a column containing the sentence each noun comes from?</font>  \n",
    " "
   ]
  },
  {
   "cell_type": "code",
   "execution_count": null,
   "metadata": {},
   "outputs": [],
   "source": []
  },
  {
   "cell_type": "markdown",
   "metadata": {},
   "source": [
    "## 5. Outputing data"
   ]
  },
  {
   "cell_type": "code",
   "execution_count": null,
   "metadata": {},
   "outputs": [],
   "source": [
    "df.to_csv(r'Data/SpacyDF.csv', index=None, header=True)"
   ]
  },
  {
   "cell_type": "markdown",
   "metadata": {},
   "source": []
  }
 ],
 "metadata": {
  "kernelspec": {
   "display_name": "Python 3",
   "language": "python",
   "name": "python3"
  },
  "language_info": {
   "codemirror_mode": {
    "name": "ipython",
    "version": 3
   },
   "file_extension": ".py",
   "mimetype": "text/x-python",
   "name": "python",
   "nbconvert_exporter": "python",
   "pygments_lexer": "ipython3",
   "version": "3.7.6"
  }
 },
 "nbformat": 4,
 "nbformat_minor": 2
}
